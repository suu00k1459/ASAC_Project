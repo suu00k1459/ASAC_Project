{
 "cells": [
  {
   "cell_type": "markdown",
   "id": "642147a0-cba0-45d2-99cf-163e0176e0dd",
   "metadata": {
    "jp-MarkdownHeadingCollapsed": true
   },
   "source": [
    "#### 설치"
   ]
  },
  {
   "cell_type": "code",
   "execution_count": 203,
   "id": "2736d691",
   "metadata": {},
   "outputs": [
    {
     "name": "stdout",
     "output_type": "stream",
     "text": [
      "Requirement already satisfied: opencv-contrib-python in /opt/anaconda3/lib/python3.11/site-packages (4.9.0.80)\n",
      "Requirement already satisfied: numpy>=1.21.2 in /opt/anaconda3/lib/python3.11/site-packages (from opencv-contrib-python) (1.26.4)\n",
      "Requirement already satisfied: google-cloud-vision in /opt/anaconda3/lib/python3.11/site-packages (3.7.2)\n",
      "Requirement already satisfied: google-api-core!=2.0.*,!=2.1.*,!=2.10.*,!=2.2.*,!=2.3.*,!=2.4.*,!=2.5.*,!=2.6.*,!=2.7.*,!=2.8.*,!=2.9.*,<3.0.0dev,>=1.34.1 in /opt/anaconda3/lib/python3.11/site-packages (from google-api-core[grpc]!=2.0.*,!=2.1.*,!=2.10.*,!=2.2.*,!=2.3.*,!=2.4.*,!=2.5.*,!=2.6.*,!=2.7.*,!=2.8.*,!=2.9.*,<3.0.0dev,>=1.34.1->google-cloud-vision) (2.19.0)\n",
      "Requirement already satisfied: google-auth!=2.24.0,!=2.25.0,<3.0.0dev,>=2.14.1 in /opt/anaconda3/lib/python3.11/site-packages (from google-cloud-vision) (2.29.0)\n",
      "Requirement already satisfied: proto-plus<2.0.0dev,>=1.22.3 in /opt/anaconda3/lib/python3.11/site-packages (from google-cloud-vision) (1.23.0)\n",
      "Requirement already satisfied: protobuf!=3.20.0,!=3.20.1,!=4.21.0,!=4.21.1,!=4.21.2,!=4.21.3,!=4.21.4,!=4.21.5,<5.0.0dev,>=3.19.5 in /opt/anaconda3/lib/python3.11/site-packages (from google-cloud-vision) (4.25.3)\n",
      "Requirement already satisfied: googleapis-common-protos<2.0.dev0,>=1.56.2 in /opt/anaconda3/lib/python3.11/site-packages (from google-api-core!=2.0.*,!=2.1.*,!=2.10.*,!=2.2.*,!=2.3.*,!=2.4.*,!=2.5.*,!=2.6.*,!=2.7.*,!=2.8.*,!=2.9.*,<3.0.0dev,>=1.34.1->google-api-core[grpc]!=2.0.*,!=2.1.*,!=2.10.*,!=2.2.*,!=2.3.*,!=2.4.*,!=2.5.*,!=2.6.*,!=2.7.*,!=2.8.*,!=2.9.*,<3.0.0dev,>=1.34.1->google-cloud-vision) (1.63.0)\n",
      "Requirement already satisfied: requests<3.0.0.dev0,>=2.18.0 in /opt/anaconda3/lib/python3.11/site-packages (from google-api-core!=2.0.*,!=2.1.*,!=2.10.*,!=2.2.*,!=2.3.*,!=2.4.*,!=2.5.*,!=2.6.*,!=2.7.*,!=2.8.*,!=2.9.*,<3.0.0dev,>=1.34.1->google-api-core[grpc]!=2.0.*,!=2.1.*,!=2.10.*,!=2.2.*,!=2.3.*,!=2.4.*,!=2.5.*,!=2.6.*,!=2.7.*,!=2.8.*,!=2.9.*,<3.0.0dev,>=1.34.1->google-cloud-vision) (2.31.0)\n",
      "Requirement already satisfied: grpcio<2.0dev,>=1.33.2 in /opt/anaconda3/lib/python3.11/site-packages (from google-api-core[grpc]!=2.0.*,!=2.1.*,!=2.10.*,!=2.2.*,!=2.3.*,!=2.4.*,!=2.5.*,!=2.6.*,!=2.7.*,!=2.8.*,!=2.9.*,<3.0.0dev,>=1.34.1->google-cloud-vision) (1.63.0)\n",
      "Requirement already satisfied: grpcio-status<2.0.dev0,>=1.33.2 in /opt/anaconda3/lib/python3.11/site-packages (from google-api-core[grpc]!=2.0.*,!=2.1.*,!=2.10.*,!=2.2.*,!=2.3.*,!=2.4.*,!=2.5.*,!=2.6.*,!=2.7.*,!=2.8.*,!=2.9.*,<3.0.0dev,>=1.34.1->google-cloud-vision) (1.62.2)\n",
      "Requirement already satisfied: cachetools<6.0,>=2.0.0 in /opt/anaconda3/lib/python3.11/site-packages (from google-auth!=2.24.0,!=2.25.0,<3.0.0dev,>=2.14.1->google-cloud-vision) (4.2.2)\n",
      "Requirement already satisfied: pyasn1-modules>=0.2.1 in /opt/anaconda3/lib/python3.11/site-packages (from google-auth!=2.24.0,!=2.25.0,<3.0.0dev,>=2.14.1->google-cloud-vision) (0.2.8)\n",
      "Requirement already satisfied: rsa<5,>=3.1.4 in /opt/anaconda3/lib/python3.11/site-packages (from google-auth!=2.24.0,!=2.25.0,<3.0.0dev,>=2.14.1->google-cloud-vision) (4.9)\n",
      "Requirement already satisfied: pyasn1<0.5.0,>=0.4.6 in /opt/anaconda3/lib/python3.11/site-packages (from pyasn1-modules>=0.2.1->google-auth!=2.24.0,!=2.25.0,<3.0.0dev,>=2.14.1->google-cloud-vision) (0.4.8)\n",
      "Requirement already satisfied: charset-normalizer<4,>=2 in /opt/anaconda3/lib/python3.11/site-packages (from requests<3.0.0.dev0,>=2.18.0->google-api-core!=2.0.*,!=2.1.*,!=2.10.*,!=2.2.*,!=2.3.*,!=2.4.*,!=2.5.*,!=2.6.*,!=2.7.*,!=2.8.*,!=2.9.*,<3.0.0dev,>=1.34.1->google-api-core[grpc]!=2.0.*,!=2.1.*,!=2.10.*,!=2.2.*,!=2.3.*,!=2.4.*,!=2.5.*,!=2.6.*,!=2.7.*,!=2.8.*,!=2.9.*,<3.0.0dev,>=1.34.1->google-cloud-vision) (2.0.4)\n",
      "Requirement already satisfied: idna<4,>=2.5 in /opt/anaconda3/lib/python3.11/site-packages (from requests<3.0.0.dev0,>=2.18.0->google-api-core!=2.0.*,!=2.1.*,!=2.10.*,!=2.2.*,!=2.3.*,!=2.4.*,!=2.5.*,!=2.6.*,!=2.7.*,!=2.8.*,!=2.9.*,<3.0.0dev,>=1.34.1->google-api-core[grpc]!=2.0.*,!=2.1.*,!=2.10.*,!=2.2.*,!=2.3.*,!=2.4.*,!=2.5.*,!=2.6.*,!=2.7.*,!=2.8.*,!=2.9.*,<3.0.0dev,>=1.34.1->google-cloud-vision) (3.4)\n",
      "Requirement already satisfied: urllib3<3,>=1.21.1 in /opt/anaconda3/lib/python3.11/site-packages (from requests<3.0.0.dev0,>=2.18.0->google-api-core!=2.0.*,!=2.1.*,!=2.10.*,!=2.2.*,!=2.3.*,!=2.4.*,!=2.5.*,!=2.6.*,!=2.7.*,!=2.8.*,!=2.9.*,<3.0.0dev,>=1.34.1->google-api-core[grpc]!=2.0.*,!=2.1.*,!=2.10.*,!=2.2.*,!=2.3.*,!=2.4.*,!=2.5.*,!=2.6.*,!=2.7.*,!=2.8.*,!=2.9.*,<3.0.0dev,>=1.34.1->google-cloud-vision) (2.0.7)\n",
      "Requirement already satisfied: certifi>=2017.4.17 in /opt/anaconda3/lib/python3.11/site-packages (from requests<3.0.0.dev0,>=2.18.0->google-api-core!=2.0.*,!=2.1.*,!=2.10.*,!=2.2.*,!=2.3.*,!=2.4.*,!=2.5.*,!=2.6.*,!=2.7.*,!=2.8.*,!=2.9.*,<3.0.0dev,>=1.34.1->google-api-core[grpc]!=2.0.*,!=2.1.*,!=2.10.*,!=2.2.*,!=2.3.*,!=2.4.*,!=2.5.*,!=2.6.*,!=2.7.*,!=2.8.*,!=2.9.*,<3.0.0dev,>=1.34.1->google-cloud-vision) (2024.2.2)\n",
      "Requirement already satisfied: utils in /opt/anaconda3/lib/python3.11/site-packages (1.0.2)\n"
     ]
    }
   ],
   "source": [
    "!pip install opencv-contrib-python\n",
    "!pip install --upgrade google-cloud-vision\n",
    "!pip install utils"
   ]
  },
  {
   "cell_type": "markdown",
   "id": "a7c55a87-7eff-452d-80ad-6a840be15e0c",
   "metadata": {},
   "source": [
    "#### 글자 인식"
   ]
  },
  {
   "cell_type": "code",
   "execution_count": 1,
   "id": "e5fbf2ec",
   "metadata": {},
   "outputs": [],
   "source": [
    "import os\n",
    "import io\n",
    "import re\n",
    "import math\n",
    "\n",
    "import numpy as np\n",
    "import pandas as pd\n",
    "\n",
    "from PIL import ImageFont, ImageDraw, Image\n",
    "import platform\n",
    "import matplotlib as plt\n",
    "# from utils import plt_imshow\n",
    "from PIL import Image\n",
    "import cv2\n",
    "from google.cloud import vision\n"
   ]
  },
  {
   "cell_type": "code",
   "execution_count": 40,
   "id": "c9963fb7",
   "metadata": {},
   "outputs": [],
   "source": [
    "# 글자 인식\n",
    "def putText(image, text, x, y, color=(0, 255, 0), font_size=22):\n",
    "    if type(image) == np.ndarray:\n",
    "        color_coverted = cv2.cvtColor(image, cv2.COLOR_BGR2RGB)\n",
    "        image = Image.fromarray(color_coverted)\n",
    " \n",
    "    if platform.system() == 'Darwin':\n",
    "        font = 'AppleGothic.ttf'\n",
    "    elif platform.system() == 'Windows':\n",
    "        font = 'malgun.ttf'\n",
    "    else:\n",
    "        font = 'NanumGothic.ttf'\n",
    "        \n",
    "    image_font = ImageFont.truetype(font, font_size)\n",
    "    font = ImageFont.load_default()\n",
    "    draw = ImageDraw.Draw(image)\n",
    " \n",
    "    draw.text((x, y), text, font=image_font, fill=color)\n",
    "    \n",
    "    numpy_image = np.array(image)\n",
    "    opencv_image = cv2.cvtColor(numpy_image, cv2.COLOR_RGB2BGR)\n",
    " \n",
    "    return opencv_image"
   ]
  },
  {
   "cell_type": "code",
   "execution_count": 2,
   "id": "da3ad7df",
   "metadata": {},
   "outputs": [],
   "source": [
    "# 임의의 사각형을 이루는 각 변의 벡터 계산\n",
    "def calculate_polygon_area(vertices):    \n",
    "    vectors = []\n",
    "    \n",
    "    for i in range(len(vertices)):\n",
    "        x1, y1 = vertices[i]\n",
    "        x2, y2 = vertices[(i + 1) % len(vertices)]\n",
    "        vectors.append((x2 - x1, y2 - y1))\n",
    "        \n",
    "    # 외적을 통한 넓이 계산\n",
    "    area = 0\n",
    "    for i in range(len(vectors)):\n",
    "        area += vectors[i][0] * vectors[(i + 1) % len(vectors)][1]\n",
    "        area -= vectors[i][1] * vectors[(i + 1) % len(vectors)][0]\n",
    "\n",
    "    area = abs(area) / 2\n",
    "    return area"
   ]
  },
  {
   "cell_type": "code",
   "execution_count": 42,
   "id": "129ca060",
   "metadata": {},
   "outputs": [],
   "source": [
    "# 이미지 크기 계산 : 경로 설정 필요함!\n",
    "def size(img):\n",
    "    im = Image.open(\"C:\\\\Users\\\\NT551XCJ\\\\Documents\\\\suyoungkim\\\\999.p_pj\\\\ML\\\\filtered2021_images - 복사본\"+\"/\"+img) # 여기\n",
    "    width, height = im.size\n",
    "    \n",
    "    return width*height"
   ]
  },
  {
   "cell_type": "code",
   "execution_count": 43,
   "id": "86cc911b",
   "metadata": {},
   "outputs": [],
   "source": [
    "# 특수문자 제거 정규식 (안 썼음)\n",
    "def remove_special_characters(text):\n",
    "    result = re.sub(r'[^\\w\\s]', '-', text)\n",
    "    result = re.sub(r'[-\\*]', '', text)\n",
    "    \n",
    "    return result\n"
   ]
  },
  {
   "cell_type": "code",
   "execution_count": 25,
   "id": "2c2217de",
   "metadata": {},
   "outputs": [],
   "source": [
    "# 구글 클라우드 연동!\n",
    "# 키 값 입력 필요함!\n",
    "\n",
    "os.environ['GOOGLE_APPLICATION_CREDENTIALS'] = \"/Users/jihoonlee/Desktop/ASAC/ML/MLproject/service_secret_key.json\" # 키\n",
    " \n",
    "client_options = {'api_endpoint': 'eu-vision.googleapis.com'}\n",
    "client = vision.ImageAnnotatorClient(client_options=client_options)"
   ]
  },
  {
   "cell_type": "code",
   "execution_count": 44,
   "id": "12e2c9da",
   "metadata": {},
   "outputs": [],
   "source": [
    "def make_list(directory,i,image_index):\n",
    "    #i=>movie_idx -> 영화순서\n",
    "    lst=[]   \n",
    "    \n",
    "    for image_name, index in image_index.items():\n",
    "        print(\"<\",index,image_name,\">\")\n",
    "        path=directory+\"/\"+image_name\n",
    "        \n",
    "        with io.open(path, 'rb') as image_file:\n",
    "            content = image_file.read()\n",
    "        \n",
    "        client = vision.ImageAnnotatorClient()\n",
    "        \n",
    "        # 이미지 컨텐츠 설정\n",
    "        image = vision.Image(content=content)\n",
    "        \n",
    "        # 이미지 컨텍스트 설정 (언어 힌트 추가)\n",
    "        image_context = vision.ImageContext(language_hints=[\"ko\"])\n",
    "        \n",
    "        # 텍스트 감지 요청\n",
    "        response = client.text_detection(image=image, image_context=image_context)\n",
    "        texts = response.text_annotations\n",
    "        \n",
    "            # texts 에서 글자 이상한 거 여기서 없애기!\n",
    "            # texts = remove_special_characters(texts[0].description)\n",
    "            \n",
    "        poster_size = size(image_name)\n",
    "            \n",
    "        \n",
    "        text_rate1=0 #글자별 비율    \n",
    "        for idx, text in enumerate(texts):\n",
    "            vertices = [(vertex.x, vertex.y) for vertex in text.bounding_poly.vertices]\n",
    "            box_size = calculate_polygon_area(vertices)\n",
    "                \n",
    "            temp = []\n",
    "                \n",
    "            temp.append(i) #영화 인덱스\n",
    "            temp.append(os.path.splitext(image_name)[0]) # 영화 이름\n",
    "            #temp.append(poster_size) # 포스터 전체 사이즈\n",
    "            #temp.append(idx)\n",
    "            #temp.append(text.description) #인식한 단어\n",
    "            #temp.append(len(text.description)) #인식한 단어 전체 길이(한 음절 기준)\n",
    "            #temp.append(vertices[0]) #좌표 좌측 하단\n",
    "            #temp.append(vertices[1]) #좌표 우측 하단\n",
    "            #temp.append(vertices[2]) #좌표 우측 상단\n",
    "            #temp.append(vertices[3]) #좌표 좌측 상단\n",
    "            #temp.append(calculate_polygon_area(vertices)) #단어 상자 크기_ 글자 크기로 간주\n",
    "            \n",
    "            if idx!=0:\n",
    "                text_rate1+=box_size/poster_size\n",
    "            temp.append(text_rate1) # 전체 포스터 대비 단어 상자별 비율\n",
    "            \n",
    "\n",
    "                \n",
    "        lst.append(temp)\n",
    "        i=i+1\n",
    "\n",
    "    return lst\n",
    "\n",
    "    \n",
    "#         맥에서 안될 때 사용해보기\n",
    "# for text in texts:\n",
    "#     print('\\n\"{}\"'.format(text.description))\n",
    "#     vertices = [(vertex.x, vertex.y) for vertex in text.bounding_poly.vertices]\n",
    "#     print('텍스트 위치: {}'.format(vertices))\n",
    "        "
   ]
  },
  {
   "cell_type": "code",
   "execution_count": 5,
   "id": "ddda153e",
   "metadata": {},
   "outputs": [],
   "source": [
    "# 경로 설정 후 포스터 리스트 받기\n",
    "directory = \"filtered2021_images - 복사본\" # 여기\n",
    "files = sorted(os.listdir(directory))\n",
    "image_index = {}\n",
    "\n",
    "# # 파일 목록을 순회하며 이미지 파일인지 확인하고 인덱스 부여\n",
    "for index, file in enumerate(files):\n",
    "    file_extension = os.path.splitext(file)[1].lower()\n",
    "    if file_extension in ['.jpg']:\n",
    "        image_index[file] = index\n"
   ]
  },
  {
   "cell_type": "code",
   "execution_count": 46,
   "id": "abf9caca",
   "metadata": {
    "scrolled": true
   },
   "outputs": [
    {
     "name": "stdout",
     "output_type": "stream",
     "text": [
      "< 0 1947 보스톤.jpg >\n",
      "< 1 런닝맨- 리벤져스.jpg >\n",
      "< 2 만년이 지나도 변하지 않는 게 있어.jpg >\n",
      "< 3 장화신은 고양이- 끝내주는 모험.jpg >\n",
      "< 4 헤이지니&럭키강이 비밀의 문.jpg >\n",
      "[[1, '1947 보스톤', 0.1730017502917153], [2, '런닝맨- 리벤져스', 0.07440950989990425], [3, '만년이 지나도 변하지 않는 게 있어', 0.1681610996154731], [4, '장화신은 고양이- 끝내주는 모험', 0.14167282535626458], [5, '헤이지니&럭키강이 비밀의 문', 0.1935723828234633]]\n"
     ]
    }
   ],
   "source": [
    "# 1 => moive_idx 시작점\n",
    "lst= make_list(directory,1,image_index) "
   ]
  },
  {
   "cell_type": "code",
   "execution_count": 47,
   "id": "1ffc3b39",
   "metadata": {},
   "outputs": [],
   "source": [
    "data = pd.DataFrame(lst,\n",
    "                   columns = [\"movie_idx\",\"movie_nm\", \"text_rate\"])\n",
    "    \n",
    "data.to_csv(\"lst.csv\", header=True, sep=',')"
   ]
  },
  {
   "cell_type": "code",
   "execution_count": null,
   "id": "c046fdc8-0c8b-4277-93ec-730dac8ee07e",
   "metadata": {},
   "outputs": [],
   "source": []
  }
 ],
 "metadata": {
  "kernelspec": {
   "display_name": "Python 3 (ipykernel)",
   "language": "python",
   "name": "python3"
  },
  "language_info": {
   "codemirror_mode": {
    "name": "ipython",
    "version": 3
   },
   "file_extension": ".py",
   "mimetype": "text/x-python",
   "name": "python",
   "nbconvert_exporter": "python",
   "pygments_lexer": "ipython3",
   "version": "3.11.7"
  }
 },
 "nbformat": 4,
 "nbformat_minor": 5
}
