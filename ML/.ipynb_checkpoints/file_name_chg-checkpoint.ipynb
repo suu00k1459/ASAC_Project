{
 "cells": [
  {
   "cell_type": "code",
   "execution_count": 2,
   "id": "b22f8b88-5f59-4b24-81de-acf5f60c4c68",
   "metadata": {},
   "outputs": [
    {
     "name": "stdout",
     "output_type": "stream",
     "text": [
      "Renamed: C:\\Users\\NT551XCJ\\Documents\\suyoungkim\\999.p_pj\\ML\\image_1693제외\\고산자, 대동여지도.jpg -> C:\\Users\\NT551XCJ\\Documents\\suyoungkim\\999.p_pj\\ML\\image_1693제외\\고산자 대동여지도.jpg\n",
      "Renamed: C:\\Users\\NT551XCJ\\Documents\\suyoungkim\\999.p_pj\\ML\\image_1693제외\\광해, 왕이 된 남자.jpg -> C:\\Users\\NT551XCJ\\Documents\\suyoungkim\\999.p_pj\\ML\\image_1693제외\\광해 왕이 된 남자.jpg\n",
      "Renamed: C:\\Users\\NT551XCJ\\Documents\\suyoungkim\\999.p_pj\\ML\\image_1693제외\\귀멸의 칼날- 상현집결, 그리고 도공 마을로.jpg -> C:\\Users\\NT551XCJ\\Documents\\suyoungkim\\999.p_pj\\ML\\image_1693제외\\귀멸의 칼날- 상현집결 그리고 도공 마을로.jpg\n",
      "Renamed: C:\\Users\\NT551XCJ\\Documents\\suyoungkim\\999.p_pj\\ML\\image_1693제외\\귀멸의 칼날- 인연의 기적, 그리고 합동 강화 훈련으로.jpg -> C:\\Users\\NT551XCJ\\Documents\\suyoungkim\\999.p_pj\\ML\\image_1693제외\\귀멸의 칼날- 인연의 기적 그리고 합동 강화 훈련으로.jpg\n",
      "Renamed: C:\\Users\\NT551XCJ\\Documents\\suyoungkim\\999.p_pj\\ML\\image_1693제외\\그 겨울, 나는.jpg -> C:\\Users\\NT551XCJ\\Documents\\suyoungkim\\999.p_pj\\ML\\image_1693제외\\그 겨울 나는.jpg\n",
      "Renamed: C:\\Users\\NT551XCJ\\Documents\\suyoungkim\\999.p_pj\\ML\\image_1693제외\\그 시절, 우리가 좋아했던 소녀.jpg -> C:\\Users\\NT551XCJ\\Documents\\suyoungkim\\999.p_pj\\ML\\image_1693제외\\그 시절 우리가 좋아했던 소녀.jpg\n",
      "Renamed: C:\\Users\\NT551XCJ\\Documents\\suyoungkim\\999.p_pj\\ML\\image_1693제외\\그날, 바다.jpg -> C:\\Users\\NT551XCJ\\Documents\\suyoungkim\\999.p_pj\\ML\\image_1693제외\\그날 바다.jpg\n",
      "Renamed: C:\\Users\\NT551XCJ\\Documents\\suyoungkim\\999.p_pj\\ML\\image_1693제외\\그대, 고맙소 - 김호중 생애 첫 팬미팅 무비.jpg -> C:\\Users\\NT551XCJ\\Documents\\suyoungkim\\999.p_pj\\ML\\image_1693제외\\그대 고맙소 - 김호중 생애 첫 팬미팅 무비.jpg\n",
      "Renamed: C:\\Users\\NT551XCJ\\Documents\\suyoungkim\\999.p_pj\\ML\\image_1693제외\\극장판 포켓몬스터 베스트위시- 신의 속도 게노세크트, 뮤츠의 각성.jpg -> C:\\Users\\NT551XCJ\\Documents\\suyoungkim\\999.p_pj\\ML\\image_1693제외\\극장판 포켓몬스터 베스트위시- 신의 속도 게노세크트 뮤츠의 각성.jpg\n",
      "Renamed: C:\\Users\\NT551XCJ\\Documents\\suyoungkim\\999.p_pj\\ML\\image_1693제외\\극장판 포켓몬스터- 정글의 아이, 코코.jpg -> C:\\Users\\NT551XCJ\\Documents\\suyoungkim\\999.p_pj\\ML\\image_1693제외\\극장판 포켓몬스터- 정글의 아이 코코.jpg\n",
      "Renamed: C:\\Users\\NT551XCJ\\Documents\\suyoungkim\\999.p_pj\\ML\\image_1693제외\\기억해, 우리가 사랑한 시간.jpg -> C:\\Users\\NT551XCJ\\Documents\\suyoungkim\\999.p_pj\\ML\\image_1693제외\\기억해 우리가 사랑한 시간.jpg\n",
      "Renamed: C:\\Users\\NT551XCJ\\Documents\\suyoungkim\\999.p_pj\\ML\\image_1693제외\\나는 내일, 어제의 너와 만난다.jpg -> C:\\Users\\NT551XCJ\\Documents\\suyoungkim\\999.p_pj\\ML\\image_1693제외\\나는 내일 어제의 너와 만난다.jpg\n",
      "Renamed: C:\\Users\\NT551XCJ\\Documents\\suyoungkim\\999.p_pj\\ML\\image_1693제외\\날, 보러와요.jpg -> C:\\Users\\NT551XCJ\\Documents\\suyoungkim\\999.p_pj\\ML\\image_1693제외\\날 보러와요.jpg\n",
      "Renamed: C:\\Users\\NT551XCJ\\Documents\\suyoungkim\\999.p_pj\\ML\\image_1693제외\\님아, 그 강을 건너지 마오.jpg -> C:\\Users\\NT551XCJ\\Documents\\suyoungkim\\999.p_pj\\ML\\image_1693제외\\님아 그 강을 건너지 마오.jpg\n",
      "Renamed: C:\\Users\\NT551XCJ\\Documents\\suyoungkim\\999.p_pj\\ML\\image_1693제외\\당신, 거기 있어줄래요.jpg -> C:\\Users\\NT551XCJ\\Documents\\suyoungkim\\999.p_pj\\ML\\image_1693제외\\당신 거기 있어줄래요.jpg\n",
      "Renamed: C:\\Users\\NT551XCJ\\Documents\\suyoungkim\\999.p_pj\\ML\\image_1693제외\\메밀꽃, 운수 좋은 날, 그리고 봄봄.jpg -> C:\\Users\\NT551XCJ\\Documents\\suyoungkim\\999.p_pj\\ML\\image_1693제외\\메밀꽃 운수 좋은 날 그리고 봄봄.jpg\n",
      "Renamed: C:\\Users\\NT551XCJ\\Documents\\suyoungkim\\999.p_pj\\ML\\image_1693제외\\무현, 두 도시 이야기.jpg -> C:\\Users\\NT551XCJ\\Documents\\suyoungkim\\999.p_pj\\ML\\image_1693제외\\무현 두 도시 이야기.jpg\n",
      "Renamed: C:\\Users\\NT551XCJ\\Documents\\suyoungkim\\999.p_pj\\ML\\image_1693제외\\뮤지컬 공연실황, 알쏭달쏭 캐치! 티니핑 -신비한 상자를 열어라!-.jpg -> C:\\Users\\NT551XCJ\\Documents\\suyoungkim\\999.p_pj\\ML\\image_1693제외\\뮤지컬 공연실황 알쏭달쏭 캐치! 티니핑 -신비한 상자를 열어라!-.jpg\n",
      "Renamed: C:\\Users\\NT551XCJ\\Documents\\suyoungkim\\999.p_pj\\ML\\image_1693제외\\바다 탐험대 옥토넛 어보브 앤 비욘드- 버드, 옥토경보를 울려라!.jpg -> C:\\Users\\NT551XCJ\\Documents\\suyoungkim\\999.p_pj\\ML\\image_1693제외\\바다 탐험대 옥토넛 어보브 앤 비욘드- 버드 옥토경보를 울려라!.jpg\n",
      "Renamed: C:\\Users\\NT551XCJ\\Documents\\suyoungkim\\999.p_pj\\ML\\image_1693제외\\사랑한다, 사랑하지 않는다.jpg -> C:\\Users\\NT551XCJ\\Documents\\suyoungkim\\999.p_pj\\ML\\image_1693제외\\사랑한다 사랑하지 않는다.jpg\n",
      "Renamed: C:\\Users\\NT551XCJ\\Documents\\suyoungkim\\999.p_pj\\ML\\image_1693제외\\서서평, 천천히 평온하게.jpg -> C:\\Users\\NT551XCJ\\Documents\\suyoungkim\\999.p_pj\\ML\\image_1693제외\\서서평 천천히 평온하게.jpg\n",
      "Renamed: C:\\Users\\NT551XCJ\\Documents\\suyoungkim\\999.p_pj\\ML\\image_1693제외\\쏘아올린 불꽃, 밑에서 볼까- 옆에서 볼까-.jpg -> C:\\Users\\NT551XCJ\\Documents\\suyoungkim\\999.p_pj\\ML\\image_1693제외\\쏘아올린 불꽃 밑에서 볼까- 옆에서 볼까-.jpg\n",
      "Renamed: C:\\Users\\NT551XCJ\\Documents\\suyoungkim\\999.p_pj\\ML\\image_1693제외\\아치의 노래, 정태춘.jpg -> C:\\Users\\NT551XCJ\\Documents\\suyoungkim\\999.p_pj\\ML\\image_1693제외\\아치의 노래 정태춘.jpg\n",
      "Renamed: C:\\Users\\NT551XCJ\\Documents\\suyoungkim\\999.p_pj\\ML\\image_1693제외\\안녕, 나의 소녀.jpg -> C:\\Users\\NT551XCJ\\Documents\\suyoungkim\\999.p_pj\\ML\\image_1693제외\\안녕 나의 소녀.jpg\n",
      "Renamed: C:\\Users\\NT551XCJ\\Documents\\suyoungkim\\999.p_pj\\ML\\image_1693제외\\안녕, 전우치! 도술로봇대결전.jpg -> C:\\Users\\NT551XCJ\\Documents\\suyoungkim\\999.p_pj\\ML\\image_1693제외\\안녕 전우치! 도술로봇대결전.jpg\n",
      "Renamed: C:\\Users\\NT551XCJ\\Documents\\suyoungkim\\999.p_pj\\ML\\image_1693제외\\안녕, 티라노- 영원히, 함께.jpg -> C:\\Users\\NT551XCJ\\Documents\\suyoungkim\\999.p_pj\\ML\\image_1693제외\\안녕 티라노- 영원히 함께.jpg\n",
      "Renamed: C:\\Users\\NT551XCJ\\Documents\\suyoungkim\\999.p_pj\\ML\\image_1693제외\\어쩌다 공주, 닭냥이 왕자를 부탁해!.jpg -> C:\\Users\\NT551XCJ\\Documents\\suyoungkim\\999.p_pj\\ML\\image_1693제외\\어쩌다 공주 닭냥이 왕자를 부탁해!.jpg\n",
      "Renamed: C:\\Users\\NT551XCJ\\Documents\\suyoungkim\\999.p_pj\\ML\\image_1693제외\\어쩌다, 결혼.jpg -> C:\\Users\\NT551XCJ\\Documents\\suyoungkim\\999.p_pj\\ML\\image_1693제외\\어쩌다 결혼.jpg\n",
      "Renamed: C:\\Users\\NT551XCJ\\Documents\\suyoungkim\\999.p_pj\\ML\\image_1693제외\\여름을 향한 터널, 이별의 출구.jpg -> C:\\Users\\NT551XCJ\\Documents\\suyoungkim\\999.p_pj\\ML\\image_1693제외\\여름을 향한 터널 이별의 출구.jpg\n",
      "Renamed: C:\\Users\\NT551XCJ\\Documents\\suyoungkim\\999.p_pj\\ML\\image_1693제외\\오늘 밤, 로맨스 극장에서.jpg -> C:\\Users\\NT551XCJ\\Documents\\suyoungkim\\999.p_pj\\ML\\image_1693제외\\오늘 밤 로맨스 극장에서.jpg\n",
      "Renamed: C:\\Users\\NT551XCJ\\Documents\\suyoungkim\\999.p_pj\\ML\\image_1693제외\\오늘 밤, 세계에서 이 사랑이 사라진다 해도.jpg -> C:\\Users\\NT551XCJ\\Documents\\suyoungkim\\999.p_pj\\ML\\image_1693제외\\오늘 밤 세계에서 이 사랑이 사라진다 해도.jpg\n",
      "Renamed: C:\\Users\\NT551XCJ\\Documents\\suyoungkim\\999.p_pj\\ML\\image_1693제외\\울지마, 톤즈.jpg -> C:\\Users\\NT551XCJ\\Documents\\suyoungkim\\999.p_pj\\ML\\image_1693제외\\울지마 톤즈.jpg\n",
      "Renamed: C:\\Users\\NT551XCJ\\Documents\\suyoungkim\\999.p_pj\\ML\\image_1693제외\\자우림, 더 원더랜드.jpg -> C:\\Users\\NT551XCJ\\Documents\\suyoungkim\\999.p_pj\\ML\\image_1693제외\\자우림 더 원더랜드.jpg\n",
      "Renamed: C:\\Users\\NT551XCJ\\Documents\\suyoungkim\\999.p_pj\\ML\\image_1693제외\\제자, 옥한흠.jpg -> C:\\Users\\NT551XCJ\\Documents\\suyoungkim\\999.p_pj\\ML\\image_1693제외\\제자 옥한흠.jpg\n",
      "Renamed: C:\\Users\\NT551XCJ\\Documents\\suyoungkim\\999.p_pj\\ML\\image_1693제외\\조제, 호랑이 그리고 물고기들.jpg -> C:\\Users\\NT551XCJ\\Documents\\suyoungkim\\999.p_pj\\ML\\image_1693제외\\조제 호랑이 그리고 물고기들.jpg\n",
      "Renamed: C:\\Users\\NT551XCJ\\Documents\\suyoungkim\\999.p_pj\\ML\\image_1693제외\\주사위놀이, 마불 세계여행.jpg -> C:\\Users\\NT551XCJ\\Documents\\suyoungkim\\999.p_pj\\ML\\image_1693제외\\주사위놀이 마불 세계여행.jpg\n",
      "Renamed: C:\\Users\\NT551XCJ\\Documents\\suyoungkim\\999.p_pj\\ML\\image_1693제외\\하늘을 나는 강아지, 비포와 친구들.jpg -> C:\\Users\\NT551XCJ\\Documents\\suyoungkim\\999.p_pj\\ML\\image_1693제외\\하늘을 나는 강아지 비포와 친구들.jpg\n",
      "Renamed: C:\\Users\\NT551XCJ\\Documents\\suyoungkim\\999.p_pj\\ML\\image_1693제외\\협녀, 칼의 기억.jpg -> C:\\Users\\NT551XCJ\\Documents\\suyoungkim\\999.p_pj\\ML\\image_1693제외\\협녀 칼의 기억.jpg\n"
     ]
    }
   ],
   "source": [
    "import os\n",
    "\n",
    "# 파일이 있는 디렉토리 경로 설정\n",
    "directory = 'C:\\\\Users\\\\NT551XCJ\\\\Documents\\\\suyoungkim\\\\999.p_pj\\\\ML\\\\image_1693제외'\n",
    "\n",
    "# 디렉토리 내 파일 목록 가져오기\n",
    "for filename in os.listdir(directory):\n",
    "    # 쉼표가 포함된 파일명 확인\n",
    "    if ',' in filename:\n",
    "        # 새로운 파일명 생성 (쉼표 제거)\n",
    "        new_filename = filename.replace(',', '')\n",
    "        \n",
    "        # 기존 파일 경로\n",
    "        old_filepath = os.path.join(directory, filename)\n",
    "        \n",
    "        # 새로운 파일 경로\n",
    "        new_filepath = os.path.join(directory, new_filename)\n",
    "        \n",
    "        # 파일명 변경\n",
    "        os.rename(old_filepath, new_filepath)\n",
    "        print(f'Renamed: {old_filepath} -> {new_filepath}')\n"
   ]
  },
  {
   "cell_type": "code",
   "execution_count": 10,
   "id": "4c20ff29-ae5c-4f55-9e7c-a4b660c713ea",
   "metadata": {},
   "outputs": [],
   "source": [
    "# join하기 위해서 원래 파일명으로 돌려놓기 위한 파일명\n",
    "directory = \"C:\\\\Users\\\\NT551XCJ\\\\Documents\\\\suyoungkim\\\\999.p_pj\\\\ML\\\\image_1693제외 - 복사본\"\n",
    " # 여기\n",
    "files = os.listdir(directory)\n",
    "\n",
    "list = []\n",
    "list_name = []\n",
    "\n",
    "for i, name in enumerate(files):\n",
    "    if ',' in name:\n",
    "        list.append(name)\n",
    "        temp = name.replace(\",\",\"\")\n",
    "        list_name.append(temp)"
   ]
  },
  {
   "cell_type": "code",
   "execution_count": 11,
   "id": "588aad49-1211-44d5-9545-ada1305f436d",
   "metadata": {},
   "outputs": [
    {
     "data": {
      "text/plain": [
       "['고산자 대동여지도.jpg',\n",
       " '광해 왕이 된 남자.jpg',\n",
       " '귀멸의 칼날- 상현집결 그리고 도공 마을로.jpg',\n",
       " '귀멸의 칼날- 인연의 기적 그리고 합동 강화 훈련으로.jpg',\n",
       " '그 겨울 나는.jpg',\n",
       " '그 시절 우리가 좋아했던 소녀.jpg',\n",
       " '그날 바다.jpg',\n",
       " '그대 고맙소 - 김호중 생애 첫 팬미팅 무비.jpg',\n",
       " '극장판 포켓몬스터 베스트위시- 신의 속도 게노세크트 뮤츠의 각성.jpg',\n",
       " '극장판 포켓몬스터- 정글의 아이 코코.jpg',\n",
       " '기억해 우리가 사랑한 시간.jpg',\n",
       " '나는 내일 어제의 너와 만난다.jpg',\n",
       " '날 보러와요.jpg',\n",
       " '님아 그 강을 건너지 마오.jpg',\n",
       " '당신 거기 있어줄래요.jpg',\n",
       " '메밀꽃 운수 좋은 날 그리고 봄봄.jpg',\n",
       " '무현 두 도시 이야기.jpg',\n",
       " '뮤지컬 공연실황 알쏭달쏭 캐치! 티니핑 -신비한 상자를 열어라!-.jpg',\n",
       " '바다 탐험대 옥토넛 어보브 앤 비욘드- 버드 옥토경보를 울려라!.jpg',\n",
       " '사랑한다 사랑하지 않는다.jpg',\n",
       " '서서평 천천히 평온하게.jpg',\n",
       " '쏘아올린 불꽃 밑에서 볼까- 옆에서 볼까-.jpg',\n",
       " '아치의 노래 정태춘.jpg',\n",
       " '안녕 나의 소녀.jpg',\n",
       " '안녕 전우치! 도술로봇대결전.jpg',\n",
       " '안녕 티라노- 영원히 함께.jpg',\n",
       " '어쩌다 공주 닭냥이 왕자를 부탁해!.jpg',\n",
       " '어쩌다 결혼.jpg',\n",
       " '여름을 향한 터널 이별의 출구.jpg',\n",
       " '오늘 밤 로맨스 극장에서.jpg',\n",
       " '오늘 밤 세계에서 이 사랑이 사라진다 해도.jpg',\n",
       " '울지마 톤즈.jpg',\n",
       " '자우림 더 원더랜드.jpg',\n",
       " '제자 옥한흠.jpg',\n",
       " '조제 호랑이 그리고 물고기들.jpg',\n",
       " '주사위놀이 마불 세계여행.jpg',\n",
       " '하늘을 나는 강아지 비포와 친구들.jpg',\n",
       " '협녀 칼의 기억.jpg']"
      ]
     },
     "execution_count": 11,
     "metadata": {},
     "output_type": "execute_result"
    }
   ],
   "source": [
    "list_name"
   ]
  },
  {
   "cell_type": "code",
   "execution_count": 12,
   "id": "0e1a8453-f25b-4f29-8239-43e080cedb66",
   "metadata": {},
   "outputs": [
    {
     "data": {
      "text/plain": [
       "['고산자, 대동여지도.jpg',\n",
       " '광해, 왕이 된 남자.jpg',\n",
       " '귀멸의 칼날- 상현집결, 그리고 도공 마을로.jpg',\n",
       " '귀멸의 칼날- 인연의 기적, 그리고 합동 강화 훈련으로.jpg',\n",
       " '그 겨울, 나는.jpg',\n",
       " '그 시절, 우리가 좋아했던 소녀.jpg',\n",
       " '그날, 바다.jpg',\n",
       " '그대, 고맙소 - 김호중 생애 첫 팬미팅 무비.jpg',\n",
       " '극장판 포켓몬스터 베스트위시- 신의 속도 게노세크트, 뮤츠의 각성.jpg',\n",
       " '극장판 포켓몬스터- 정글의 아이, 코코.jpg',\n",
       " '기억해, 우리가 사랑한 시간.jpg',\n",
       " '나는 내일, 어제의 너와 만난다.jpg',\n",
       " '날, 보러와요.jpg',\n",
       " '님아, 그 강을 건너지 마오.jpg',\n",
       " '당신, 거기 있어줄래요.jpg',\n",
       " '메밀꽃, 운수 좋은 날, 그리고 봄봄.jpg',\n",
       " '무현, 두 도시 이야기.jpg',\n",
       " '뮤지컬 공연실황, 알쏭달쏭 캐치! 티니핑 -신비한 상자를 열어라!-.jpg',\n",
       " '바다 탐험대 옥토넛 어보브 앤 비욘드- 버드, 옥토경보를 울려라!.jpg',\n",
       " '사랑한다, 사랑하지 않는다.jpg',\n",
       " '서서평, 천천히 평온하게.jpg',\n",
       " '쏘아올린 불꽃, 밑에서 볼까- 옆에서 볼까-.jpg',\n",
       " '아치의 노래, 정태춘.jpg',\n",
       " '안녕, 나의 소녀.jpg',\n",
       " '안녕, 전우치! 도술로봇대결전.jpg',\n",
       " '안녕, 티라노- 영원히, 함께.jpg',\n",
       " '어쩌다 공주, 닭냥이 왕자를 부탁해!.jpg',\n",
       " '어쩌다, 결혼.jpg',\n",
       " '여름을 향한 터널, 이별의 출구.jpg',\n",
       " '오늘 밤, 로맨스 극장에서.jpg',\n",
       " '오늘 밤, 세계에서 이 사랑이 사라진다 해도.jpg',\n",
       " '울지마, 톤즈.jpg',\n",
       " '자우림, 더 원더랜드.jpg',\n",
       " '제자, 옥한흠.jpg',\n",
       " '조제, 호랑이 그리고 물고기들.jpg',\n",
       " '주사위놀이, 마불 세계여행.jpg',\n",
       " '하늘을 나는 강아지, 비포와 친구들.jpg',\n",
       " '협녀, 칼의 기억.jpg']"
      ]
     },
     "execution_count": 12,
     "metadata": {},
     "output_type": "execute_result"
    }
   ],
   "source": [
    "list"
   ]
  },
  {
   "cell_type": "code",
   "execution_count": 20,
   "id": "ed980347-6835-400a-936f-e7423f26c251",
   "metadata": {},
   "outputs": [],
   "source": [
    "import pandas as pd\n",
    "\n",
    "data = pd.read_csv(\"엘프_침입자.csv\", encoding = 'utf-8')\n",
    "data1 = pd.read_csv(\"카2_힙노틱.csv\", encoding = 'utf-8')"
   ]
  },
  {
   "cell_type": "code",
   "execution_count": 27,
   "id": "a9fef387-fa12-4595-9eee-7787d0708d74",
   "metadata": {},
   "outputs": [
    {
     "data": {
      "text/plain": [
       "692"
      ]
     },
     "execution_count": 27,
     "metadata": {},
     "output_type": "execute_result"
    }
   ],
   "source": [
    "len(data)+len(data1)"
   ]
  },
  {
   "cell_type": "code",
   "execution_count": 28,
   "id": "0b85f469-19e2-4acc-84d1-f1c6b7aa7a46",
   "metadata": {},
   "outputs": [],
   "source": [
    "df = pd.concat([data,data1])"
   ]
  },
  {
   "cell_type": "code",
   "execution_count": 32,
   "id": "77656e31-54ca-427b-8451-64499ea8d9a3",
   "metadata": {},
   "outputs": [
    {
     "data": {
      "text/plain": [
       "Index(['label_name', 'bbox_x', 'bbox_y', 'bbox_width', 'bbox_height',\n",
       "       'image_name', 'image_width', 'image_height'],\n",
       "      dtype='object')"
      ]
     },
     "execution_count": 32,
     "metadata": {},
     "output_type": "execute_result"
    }
   ],
   "source": [
    "df.columns\n"
   ]
  },
  {
   "cell_type": "code",
   "execution_count": 37,
   "id": "37efe068-b4f8-4832-9bae-336a4b318f0e",
   "metadata": {},
   "outputs": [],
   "source": [
    "def rename_image(image_name):\n",
    "    for i in range(len(list_name)):\n",
    "        if image_name == list_name[i]:\n",
    "            return list[i]\n",
    "    return image_name\n",
    "\n",
    "# apply 메서드 사용\n",
    "df['image_name'] = df['image_name'].apply(rename_image)\n",
    "\n",
    "# df[\"image_name\"] = df[\"image_name\"].apply(lambda x: x = list[i] if x == list_name[i]  else x for i in range(len(list_name)))"
   ]
  },
  {
   "cell_type": "code",
   "execution_count": 41,
   "id": "8c1d28a8-c434-4cca-97fc-c1272d213b19",
   "metadata": {},
   "outputs": [
    {
     "data": {
      "text/plain": [
       "set()"
      ]
     },
     "execution_count": 41,
     "metadata": {},
     "output_type": "execute_result"
    }
   ],
   "source": [
    "set(df['image_name']) - set(files)"
   ]
  },
  {
   "cell_type": "code",
   "execution_count": 43,
   "id": "5c2b00ad-9f39-442f-a6ab-9430ee6ef328",
   "metadata": {},
   "outputs": [],
   "source": [
    "df.to_csv(\"car2_hip.csv\", encoding =\"utf-8\", header=True)"
   ]
  },
  {
   "cell_type": "code",
   "execution_count": null,
   "id": "40e38052-a22d-44bc-ae22-995e8369ddd8",
   "metadata": {},
   "outputs": [],
   "source": []
  }
 ],
 "metadata": {
  "kernelspec": {
   "display_name": "Python 3 (ipykernel)",
   "language": "python",
   "name": "python3"
  },
  "language_info": {
   "codemirror_mode": {
    "name": "ipython",
    "version": 3
   },
   "file_extension": ".py",
   "mimetype": "text/x-python",
   "name": "python",
   "nbconvert_exporter": "python",
   "pygments_lexer": "ipython3",
   "version": "3.11.7"
  }
 },
 "nbformat": 4,
 "nbformat_minor": 5
}
