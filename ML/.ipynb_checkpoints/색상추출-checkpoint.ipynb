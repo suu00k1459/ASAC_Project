{
 "cells": [
  {
   "cell_type": "code",
   "execution_count": 1,
   "id": "a4cbb3cb-5d82-4c9f-93a4-b07e5bb92403",
   "metadata": {},
   "outputs": [],
   "source": [
    "# 주요 색상 뽑기"
   ]
  },
  {
   "cell_type": "code",
   "execution_count": 1,
   "id": "1089c913-9704-48cf-a733-b92a869456bc",
   "metadata": {},
   "outputs": [
    {
     "name": "stdout",
     "output_type": "stream",
     "text": [
      "Collecting colorthief\n",
      "  Downloading colorthief-0.2.1-py2.py3-none-any.whl.metadata (816 bytes)\n",
      "Requirement already satisfied: Pillow in c:\\users\\nt551xcj\\anaconda3\\lib\\site-packages (from colorthief) (10.2.0)\n",
      "Downloading colorthief-0.2.1-py2.py3-none-any.whl (6.1 kB)\n",
      "Installing collected packages: colorthief\n",
      "Successfully installed colorthief-0.2.1\n",
      "Note: you may need to restart the kernel to use updated packages.\n"
     ]
    }
   ],
   "source": [
    "pip install colorthief"
   ]
  },
  {
   "cell_type": "code",
   "execution_count": 2,
   "id": "c1b90410-712d-43fd-bb6b-47ecf40253d9",
   "metadata": {},
   "outputs": [],
   "source": [
    "from colorthief import ColorThief\n",
    "import matplotlib.pyplot as plt\n",
    "import colorsys"
   ]
  },
  {
   "cell_type": "code",
   "execution_count": 3,
   "id": "0af08925-964e-4a01-afda-e8ccf7312c5a",
   "metadata": {},
   "outputs": [
    {
     "data": {
      "image/png": "[encoded data removed]",
      "text/plain": [
       "<Figure size 640x480 with 1 Axes>"
      ]
     },
     "metadata": {},
     "output_type": "display_data"
    }
   ],
   "source": [
    "ct = ColorThief(\"common.jpg\")\n",
    "dc = ct.get_color(quality =1)\n",
    "\n",
    "plt.imshow([[dc]])\n",
    "plt.show()"
   ]
  },
  {
   "cell_type": "code",
   "execution_count": 9,
   "id": "eab1ab86-3527-4f28-8988-e3c68597d2eb",
   "metadata": {},
   "outputs": [
    {
     "data": {
      "image/png": "[encoded data removed]",
      "text/plain": [
       "<Figure size 640x480 with 1 Axes>"
      ]
     },
     "metadata": {},
     "output_type": "display_data"
    }
   ],
   "source": [
    "palt = ct.get_palette(color_count=6)\n",
    "plt.imshow([[palt[i] for i in range(6)]])\n",
    "plt.show()"
   ]
  },
  {
   "cell_type": "code",
   "execution_count": 7,
   "id": "e6f62327-bfd9-43d7-a114-9253908948e0",
   "metadata": {},
   "outputs": [
    {
     "data": {
      "text/plain": [
       "[(212, 179, 160),\n",
       " (38, 31, 43),\n",
       " (130, 92, 88),\n",
       " (132, 160, 178),\n",
       " (57, 73, 115),\n",
       " (58, 78, 189)]"
      ]
     },
     "execution_count": 7,
     "metadata": {},
     "output_type": "execute_result"
    }
   ],
   "source": [
    "palt"
   ]
  },
  {
   "cell_type": "code",
   "execution_count": null,
   "id": "e192d34a-d832-42cf-8d03-edf46fa71f3a",
   "metadata": {},
   "outputs": [],
   "source": [
    "# kmeans 사용 or 색상 비율 참고 -귀찮아서 아직 안해봤음\n",
    "https://conansjh20.tistory.com/61\n"
   ]
  }
 ],
 "metadata": {
  "kernelspec": {
   "display_name": "Python 3 (ipykernel)",
   "language": "python",
   "name": "python3"
  },
  "language_info": {
   "codemirror_mode": {
    "name": "ipython",
    "version": 3
   },
   "file_extension": ".py",
   "mimetype": "text/x-python",
   "name": "python",
   "nbconvert_exporter": "python",
   "pygments_lexer": "ipython3",
   "version": "3.11.7"
  }
 },
 "nbformat": 4,
 "nbformat_minor": 5
}
