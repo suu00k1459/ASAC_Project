{
 "cells": [
  {
   "cell_type": "code",
   "execution_count": 5,
   "id": "4c921f7b-e835-4c15-8bf3-29c69e92a653",
   "metadata": {},
   "outputs": [
    {
     "name": "stdout",
     "output_type": "stream",
     "text": [
      "Collecting pytesseract\n",
      "  Downloading pytesseract-0.3.10-py3-none-any.whl.metadata (11 kB)\n",
      "Requirement already satisfied: packaging>=21.3 in c:\\users\\nt551xcj\\anaconda3\\lib\\site-packages (from pytesseract) (23.1)\n",
      "Requirement already satisfied: Pillow>=8.0.0 in c:\\users\\nt551xcj\\anaconda3\\lib\\site-packages (from pytesseract) (10.2.0)\n",
      "Downloading pytesseract-0.3.10-py3-none-any.whl (14 kB)\n",
      "Installing collected packages: pytesseract\n",
      "Successfully installed pytesseract-0.3.10\n",
      "Note: you may need to restart the kernel to use updated packages.\n"
     ]
    }
   ],
   "source": [
    "pip install pytesseract"
   ]
  },
  {
   "cell_type": "code",
   "execution_count": 6,
   "id": "b3697f92-239c-414e-b1fe-001b715b88de",
   "metadata": {},
   "outputs": [
    {
     "name": "stdout",
     "output_type": "stream",
     "text": [
      "Requirement already satisfied: pytesseract in c:\\users\\nt551xcj\\anaconda3\\lib\\site-packages (0.3.10)\n",
      "Requirement already satisfied: packaging>=21.3 in c:\\users\\nt551xcj\\anaconda3\\lib\\site-packages (from pytesseract) (23.1)\n",
      "Requirement already satisfied: Pillow>=8.0.0 in c:\\users\\nt551xcj\\anaconda3\\lib\\site-packages (from pytesseract) (10.2.0)\n",
      "Note: you may need to restart the kernel to use updated packages.\n"
     ]
    }
   ],
   "source": [
    "pip install pytesseract --proxy ip:port"
   ]
  },
  {
   "cell_type": "code",
   "execution_count": 10,
   "id": "d48b47b3-18e8-4f9a-853e-fc6715c64e73",
   "metadata": {},
   "outputs": [
    {
     "data": {
      "text/plain": [
       "'C:\\\\Users\\\\NT551XCJ\\\\Documents\\\\suyoungkim\\\\999.p_pj\\\\ML'"
      ]
     },
     "execution_count": 10,
     "metadata": {},
     "output_type": "execute_result"
    }
   ],
   "source": [
    "os.getcwd()"
   ]
  },
  {
   "cell_type": "code",
   "execution_count": null,
   "id": "80179fd1-23a2-4158-97d8-f004b8aa479a",
   "metadata": {},
   "outputs": [],
   "source": []
  },
  {
   "cell_type": "code",
   "execution_count": 11,
   "id": "23395849-5e27-4f10-8c4c-e8660d40006c",
   "metadata": {},
   "outputs": [
    {
     "name": "stdout",
     "output_type": "stream",
     "text": [
      "추출이 완료되었습니다. 확인부탁드립니다.\n"
     ]
    }
   ],
   "source": [
    "import pytesseract\n",
    "import cv2\n",
    "import os\n",
    "\n",
    "pytesseract.pytesseract.tesseract_cmd = r'C:\\Program Files\\Tesseract-OCR\\tesseract.exe'\n",
    "result = open(\"output.txt\",\"w\")\n",
    "\n",
    "path_dir = 'C:\\\\Users\\\\NT551XCJ\\\\Documents\\\\suyoungkim\\\\999.p_pj\\\\ML'\n",
    "file_list = os.listdir(path_dir)\n",
    "\n",
    "for file_name in file_list :\n",
    "    if file_name == \"output.txt\":\n",
    "        continue\n",
    "    result.write(pytesseract.image_to_string('common.jpg',lang='ENG+KOR',config='--psm 4 -c preserve_interword_spaces=1')+'\\n')\n",
    "result.close()\n",
    "print(\"추출이 완료되었습니다. 확인부탁드립니다.\")"
   ]
  },
  {
   "cell_type": "code",
   "execution_count": 6,
   "id": "e5948dd4-de67-4b93-9ee6-17255ebdf7ef",
   "metadata": {},
   "outputs": [
    {
     "name": "stdout",
     "output_type": "stream",
     "text": [
      "\n"
     ]
    }
   ],
   "source": [
    "import numpy as np\n",
    "from pytesseract import Output\n",
    "import pytesseract\n",
    "import cv2\n",
    "\n",
    "filename = 'common.jpg'\n",
    "img1 = cv2.imread(filename)\n",
    "# cv2.imshow(\"image\",img1)\n",
    "# cv2.waitKey(0)\n",
    "# cv2.destroyAllWindows()\n",
    "img2 = np.array(img1)\n",
    "text =pytesseract.image_to_string(img2)\n",
    "# print(text)\n",
    "\n",
    "norm_img = np.zeros((img2.shape[0], img2.shape[1]))\n",
    "img = cv2. normalize(img2, norm_img, 0, 255, cv2.NORM_MINMAX)\n",
    "img = cv2.threshold(img2, 100,255, cv2.THRESH_BINARY)[1]\n",
    "img = cv2.GaussianBlur(img, (1,1), 0)\n",
    "\n",
    "text = pytesseract.image_to_string(img)\n",
    "print(text)"
   ]
  },
  {
   "cell_type": "code",
   "execution_count": null,
   "id": "90833cdb-61c8-4252-a8c0-ab5a238e2afd",
   "metadata": {},
   "outputs": [],
   "source": [
    "filename = 'common.jpg'\n",
    "img1 = cv2.imread(filename)\n",
    "img = img1.copy()\n",
    "img = imutils.resize(img, width=500)\n",
    "gray = cv2.cvtColor(img ,"
   ]
  }
 ],
 "metadata": {
  "kernelspec": {
   "display_name": "Python 3 (ipykernel)",
   "language": "python",
   "name": "python3"
  },
  "language_info": {
   "codemirror_mode": {
    "name": "ipython",
    "version": 3
   },
   "file_extension": ".py",
   "mimetype": "text/x-python",
   "name": "python",
   "nbconvert_exporter": "python",
   "pygments_lexer": "ipython3",
   "version": "3.11.7"
  }
 },
 "nbformat": 4,
 "nbformat_minor": 5
}
