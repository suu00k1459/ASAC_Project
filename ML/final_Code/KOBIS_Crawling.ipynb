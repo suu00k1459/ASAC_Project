{
 "cells": [
  {
   "cell_type": "markdown",
   "id": "cd8a9e42-ef2e-4472-a023-5f77aac52618",
   "metadata": {
    "jp-MarkdownHeadingCollapsed": true
   },
   "source": [
    "# 크롤링"
   ]
  },
  {
   "cell_type": "code",
   "execution_count": 1,
   "id": "0e852739-b13a-45e6-b067-f8b871245a99",
   "metadata": {
    "id": "0e852739-b13a-45e6-b067-f8b871245a99"
   },
   "outputs": [],
   "source": [
    "from selenium import webdriver\n",
    "from selenium.webdriver.chrome.service import Service\n",
    "from selenium.webdriver.common.by import By\n",
    "import time\n",
    "from selenium.webdriver.support.ui import WebDriverWait\n",
    "from selenium.webdriver.chrome.options import Options\n",
    "from selenium.webdriver.support import expected_conditions as ec\n",
    "from selenium.webdriver.common.keys import Keys\n",
    "from bs4 import BeautifulSoup\n",
    "import pandas as pd\n",
    "import re\n",
    "import datetime\n",
    "import urllib.request\n",
    "import urllib"
   ]
  },
  {
   "cell_type": "code",
   "execution_count": 2,
   "id": "8b83b184-8415-4ba1-a76b-37241d3487c1",
   "metadata": {
    "id": "8b83b184-8415-4ba1-a76b-37241d3487c1"
   },
   "outputs": [],
   "source": [
    "# 크롬드라이버 위치\n",
    "path = r\"C:/Users/NT551XCJ/Downloads/chromedriver-win64/chromedriver-win64/chromedriver.exe\""
   ]
  },
  {
   "cell_type": "code",
   "execution_count": 38,
   "id": "d7e8616b-f916-48c2-b2e9-9fc097157375",
   "metadata": {
    "id": "d7e8616b-f916-48c2-b2e9-9fc097157375"
   },
   "outputs": [],
   "source": [
    "# 크롤링할 url\n",
    "url = 'https://www.kobis.or.kr/kobis/business/stat/offc/searchOfficHitTotList.do?searchMode=year'\n",
    "\n",
    "s = Service(path)\n",
    "driver = webdriver.Chrome(service=s)\n",
    "\n",
    "driver.get(url)\n",
    "\n",
    "# 연도 설정 2010 클릭\n",
    "btn_ex_path = '//*[@id=\"standYySt\"]/option[40]'\n",
    "driver.find_element(By.XPATH,btn_ex_path ).click()\n",
    "time.sleep(1)\n",
    "\n",
    "# 연도 설정 2021 클릭\n",
    "btn_ex_path = '//*[@id=\"standYyEd\"]/option[51]'\n",
    "driver.find_element(By.XPATH,btn_ex_path ).click()\n",
    "time.sleep(1)\n",
    "\n",
    "# 검색 버튼 클릭\n",
    "btn_ex_path2 = '//*[@id=\"searchForm\"]/div/div[8]/button'\n",
    "driver.find_element(By.XPATH,btn_ex_path2).click()\n",
    "time.sleep(3)\n"
   ]
  },
  {
   "cell_type": "code",
   "execution_count": 39,
   "id": "7f96b8a5-9af2-45f5-a867-b04b9e6021cf",
   "metadata": {
    "scrolled": true
   },
   "outputs": [
    {
     "name": "stdout",
     "output_type": "stream",
     "text": [
      "Done\n"
     ]
    }
   ],
   "source": [
    "# 크롤링 하기\n",
    "\n",
    "n=1\n",
    "result = []\n",
    "# 7 * 10 -> 70페이지 까지만 크롤링\n",
    "for k in range(3):\n",
    "    # 페이지 10개\n",
    "    for j in range(1,11):\n",
    "        # 다음 페이지 버튼\n",
    "        btn_ex_path5 = f'//*[@id=\"pagingForm\"]/div/ul/li[{j}]/a'\n",
    "        driver.find_element(By.XPATH,btn_ex_path5).click()\n",
    "        time.sleep(3)\n",
    "        # 리스트 10개\n",
    "        for i in range(1,11):\n",
    "            try:\n",
    "                try:\n",
    "                    # 영화 이름\n",
    "                    name_path = f'//*[@id=\"content\"]/div[4]/div[2]/table/tbody/tr[{i}]/td[2]/span/a'\n",
    "                    name = driver.find_element(By.XPATH, name_path).text\n",
    "                    img_name = re.sub(r'[\\\\/*?:\"<>|]', '-', name)\n",
    "                except:\n",
    "                    name = ''\n",
    "                    img_name = ''\n",
    "\n",
    "                # 영화 클릭\n",
    "                btn_ex_path3 = f'//*[@id=\"content\"]/div[4]/div[2]/table/tbody/tr[{i}]/td[2]/span/a'\n",
    "                driver.find_element(By.XPATH,btn_ex_path3).click()\n",
    "                time.sleep(3)\n",
    "\n",
    "                soup = BeautifulSoup( driver.page_source, \"html.parser\")\n",
    "\n",
    "                try:\n",
    "                    # 영화 이미지 링크 및 저장\n",
    "                    img = 'https://www.kobis.or.kr' + soup.find_all(\"a\", class_ = \"fl thumb\")[0].get('href')\n",
    "                    img_name = re.sub(r'[\\\\/*?:\"<>|]', '-', name)\n",
    "                    urllib.request.urlretrieve(img, img_name + '.jpg')\n",
    "                except:\n",
    "                    img_name = ''\n",
    "\n",
    "                try:\n",
    "                    # 영화 코드\n",
    "                    Mcode_path = f'//*[@id=\"ui-id-{n}\"]/div/div[1]/div[2]/dl/dd[1]'\n",
    "                    Mcode = driver.find_element(By.XPATH, Mcode_path).text\n",
    "                except:\n",
    "                    Mcode = ''\n",
    "\n",
    "                try:\n",
    "                    # 영화 정보\n",
    "                    Minfo_path = f'//*[@id=\"ui-id-{n}\"]/div/div[1]/div[2]/dl/dd[4]'\n",
    "                    Minfo = driver.find_element(By.XPATH, Minfo_path).text\n",
    "                except:\n",
    "                    Minfo = ''\n",
    "\n",
    "                # 상영타입\n",
    "                try:\n",
    "                    Mtype = []\n",
    "                    for t in range(len(soup.find(\"dl\", class_ = \"ovf cont\").find_all('strong'))):\n",
    "                        Mtype.append(re.sub(r'[:]','',(soup.find(\"dl\", class_ = \"ovf cont\").find_all('strong')[t].text)).strip())\n",
    "                    Mtype = ','.join(Mtype)\n",
    "                except:\n",
    "                    Mtype = ''\n",
    "                    pass\n",
    "\n",
    "                # 주연\n",
    "                try:\n",
    "                    act = soup.select(\"dl > div:nth-child(2) > dd > table:nth-child(1) > tbody > tr > td\")[0].text\n",
    "                except:\n",
    "                    act = ''\n",
    "                    pass\n",
    "\n",
    "                result.append([name, img, img_name + '.jpg', Mcode, Minfo, Mtype, act])\n",
    "                n += 2\n",
    "\n",
    "                # 닫기\n",
    "                btn_ex_path4 = '/html/body/div[3]/div[1]/div[1]/a[2]/span'\n",
    "                driver.find_element(By.XPATH,btn_ex_path4).click()\n",
    "                time.sleep(3)\n",
    "\n",
    "            except:\n",
    "                # 오류난 위치 출력\n",
    "                print(k,j,i)\n",
    "                pass\n",
    "\n",
    "    # 화살표 클릭\n",
    "    btn_ex_path6 = '//*[@id=\"pagingForm\"]/div/a[3]'\n",
    "    driver.find_element(By.XPATH,btn_ex_path6).click()\n",
    "    time.sleep(3)\n",
    "\n",
    "print('Done')\n",
    "\n",
    "# 데이터 프레임 저장\n",
    "result_df = pd.DataFrame(result,columns = ['영화 이름', '이미지 링크', '이미지 이름', '영화 코드', '영화 정보', '상영타입', '주연배우'])\n",
    "\n",
    "# csv 저장\n",
    "result_df.to_csv(\"영화 크롤링.csv\",index = True, encoding = 'utf-8')"
   ]
  },
  {
   "cell_type": "markdown",
   "id": "663b9a28-09e4-4d13-8b6c-cbd4a5fb2697",
   "metadata": {
    "jp-MarkdownHeadingCollapsed": true
   },
   "source": [
    "# 전처리\n",
    "   | 로 구분 되어있던 영화 정보 컬럼을 여러 컬럼으로 분할"
   ]
  },
  {
   "cell_type": "code",
   "execution_count": null,
   "id": "3a590d6c-0841-4fb7-8c29-ff0d7be69d56",
   "metadata": {},
   "outputs": [],
   "source": [
    "# csv 불러오기\n",
    "path = \"C:/Users/NT551XCJ/Desktop/MLproject/영화 크롤링.csv\"\n",
    "df = pd.read_csv(path, encoding = 'cp949')"
   ]
  },
  {
   "cell_type": "code",
   "execution_count": null,
   "id": "44284997-cef1-4b76-9013-e42c03244ca4",
   "metadata": {},
   "outputs": [],
   "source": [
    "df['길이'] = df['영화 정보'].apply(lambda x: x.split('|')[0].strip())\n",
    "df['영화종류'] = df['영화 정보'].apply(lambda x: x.split('|')[1].strip())\n",
    "df['장르2'] = df['영화 정보'].apply(lambda x: x.split('|')[2].strip())\n",
    "df['러닝타임'] = df['영화 정보'].apply(lambda x: x.split('|')[3].strip())\n",
    "df['권장연령'] = df['영화 정보'].apply(lambda x: x.split('|')[4].strip())"
   ]
  },
  {
   "cell_type": "code",
   "execution_count": null,
   "id": "38f90751-fa3b-4654-96aa-429f32849976",
   "metadata": {},
   "outputs": [],
   "source": [
    "df.to_csv(\"영화 크롤링.csv\",index = False, encoding = 'cp949')"
   ]
  },
  {
   "cell_type": "code",
   "execution_count": null,
   "id": "9e1acb4f-469c-4bac-81f8-1c8d1691bc0a",
   "metadata": {},
   "outputs": [],
   "source": [
    "# 조인\n",
    "\n",
    "# csv 불러오기\n",
    "path = \"C:/Users/NT551XCJ/Desktop/MLproject/영화csv/영화 최종.csv\"\n",
    "df = pd.read_csv(path, encoding = 'utf-8')\n",
    "\n",
    "# csv 불러오기\n",
    "path1 = \"C:/Users/NT551XCJ/Desktop/MLproject/영화csv/kobis 통합.csv\"\n",
    "df1 = pd.read_csv(path1, encoding = 'utf-8')\n",
    "\n",
    "# 조인\n",
    "temp_merge = pd.merge(left = df , right = df1, how = \"left\", on = [\"영화 이름\"])\n",
    "\n",
    "# csv 저장\n",
    "temp_merge.to_csv(\"영화 최종.csv\",index = False, encoding = 'cp949')"
   ]
  },
  {
   "cell_type": "code",
   "execution_count": null,
   "id": "79efb065-bb50-4b0c-8157-7d193ee8096d",
   "metadata": {},
   "outputs": [],
   "source": [
    "# 재개봉한 영화 보기\n",
    "result = temp_merge.groupby('영화 이름').filter(lambda x: len(x) >= 2)\n",
    "result"
   ]
  },
  {
   "cell_type": "code",
   "execution_count": null,
   "id": "c9424368-f873-4af9-a404-a1fa4acc2002",
   "metadata": {},
   "outputs": [],
   "source": [
    "# 재개봉한 영화 행 삭제 관객수가 가장 많았던 행만 남김\n",
    "temp_merge = temp_merge.sort_values(by='전국 관객수', ascending=False)  # '전국 관객수'를 기준으로 내림차순 정렬합니다.\n",
    "temp_merge = temp_merge.drop_duplicates(subset='영화 이름', keep='first')  # '영화 이름'이 중복되는 경우 첫 번째 행만 남깁니다."
   ]
  },
  {
   "cell_type": "markdown",
   "id": "a70b0ab4-5565-408a-94be-a1f5c9058d8b",
   "metadata": {
    "jp-MarkdownHeadingCollapsed": true
   },
   "source": [
    "# 조인"
   ]
  },
  {
   "cell_type": "code",
   "execution_count": null,
   "id": "7c002eb6-5293-495f-aa47-bd2aa4d7ee3a",
   "metadata": {},
   "outputs": [],
   "source": [
    "# csv 불러오기 \n",
    "path = \"C:/Users/NT551XCJ/Desktop/MLproject/포스터 얼굴 분석.csv\"\n",
    "face_df = pd.read_csv(path, encoding = 'cp949')\n",
    "\n",
    "# csv 불러오기 \n",
    "path = \"C:/Users/NT551XCJ/Desktop/MLproject/5colors_final.csv\"\n",
    "rgb_df = pd.read_csv(path, encoding = 'cp949')\n",
    "\n",
    "# csv 불러오기 \n",
    "path = \"C:/Users/NT551XCJ/Desktop/MLproject/영화 최종.csv\"\n",
    "kobis_df = pd.read_csv(path, encoding = 'cp949')\n",
    "\n",
    "# csv 불러오기 \n",
    "path = \"C:/Users/NT551XCJ/Desktop/MLproject/text.csv\"\n",
    "text_df = pd.read_csv(path, encoding = 'utf-8')"
   ]
  },
  {
   "cell_type": "code",
   "execution_count": null,
   "id": "d93cdb99-a026-4eff-b4f5-c978d5175920",
   "metadata": {},
   "outputs": [],
   "source": [
    "# 각 길이가 맞는지 체크\n",
    "len(face_df),len(rgb_df),len(kobis_df),len(text_df)"
   ]
  },
  {
   "cell_type": "code",
   "execution_count": null,
   "id": "291b1a7e-3bcc-4858-98b1-9a02fb3df89d",
   "metadata": {},
   "outputs": [],
   "source": [
    "# 이미지 이름을 기준으로 조인할 거기 때문에 이미지 이름으로 컬럼 명을 바꿔줌\n",
    "rgb_df.rename(columns = {'Image_name':'이미지 이름'},inplace = True)"
   ]
  },
  {
   "cell_type": "code",
   "execution_count": null,
   "id": "95b463f9-c894-490b-9d2f-f93158241422",
   "metadata": {},
   "outputs": [],
   "source": [
    "# 4개의 데이터의 이미지 이름은 전부 같아야 함\n",
    "# kobis데이터의 이미지 이름과 rgb,text,face의 이미지 이름을 전부 비교해서 다른 부분이 없는지 체크\n",
    "\n",
    "# kobis_df에서 이미지 이름 추출\n",
    "kobis_image_names = set(kobis_df['이미지 이름'].unique())\n",
    "\n",
    "# rgb_df에서 타이틀 추출\n",
    "rgb_titles = set(face_df['이미지 이름'].unique())\n",
    "\n",
    "# kobis_df와 rgb_df 간의 이미지 이름과 타이틀 값이 다른 행 찾기\n",
    "different_values = kobis_image_names.symmetric_difference(rgb_titles)\n",
    "\n",
    "# 결과 출력\n",
    "print(different_values)"
   ]
  },
  {
   "cell_type": "code",
   "execution_count": null,
   "id": "6721a430-e1dd-4983-b792-ef89d9d31747",
   "metadata": {},
   "outputs": [],
   "source": [
    "# 문제 없으면 전부 조인\n",
    "temp_merge = pd.merge(left = kobis_rgb , right = rgb_df, how = \"left\", on = [\"이미지 이름\"])\n",
    "csv_list = list(face_df,text_df)\n",
    "\n",
    "for csv_name in csv_list:\n",
    "    temp_merge = pd.merge(left = temp_merge , right = csv_name, how = \"left\", on = [\"이미지 이름\"])\n",
    "\n",
    "temp_merge.to_csv(\"전체 데이터 원본.csv\",index = False, encoding = 'cp949')"
   ]
  },
  {
   "cell_type": "markdown",
   "id": "975e0fb0-3992-45a9-9b30-b2f07d0ab7eb",
   "metadata": {
    "jp-MarkdownHeadingCollapsed": true
   },
   "source": [
    "# 사용 안한 전처리 코드\n",
    "배우 컬럼에 뭉텅이로 있던 것을 가로를 없애고 ,로 구분하게 만드는 코드"
   ]
  },
  {
   "cell_type": "code",
   "execution_count": null,
   "id": "289f322a-46e1-4fcf-9246-14a3721224b3",
   "metadata": {},
   "outputs": [],
   "source": [
    "# 장르 필터링 하기 (******최종적으로 사용 안함)\n",
    "temp_merge = temp_merge[temp_merge['장르'].isin(['드라마', '액션', '코미디'])]"
   ]
  },
  {
   "cell_type": "code",
   "execution_count": null,
   "id": "cbcc39a4-61b8-4885-9963-c2ec2dd29574",
   "metadata": {},
   "outputs": [],
   "source": [
    "# 배우 가로 없애기 (******최종적으로 사용 안함)\n",
    "df = df[['영화 이름','주연배우', '전국 매출액', '전국 관객수']]\n",
    "df['주연배우'] = df['주연배우'].apply(lambda x: ','.join([i.split('(')[0].strip() for i in re.sub(r'[|]', ',', re.sub('[주연]','',str(x))).split(',')]) if str(x) != '' else '')\n",
    "df['주연배우'] = df['주연배우'].apply(lambda x: re.sub(r'[[]]','',x).strip() if str(x) != '' else '')\n",
    "\n",
    "# csv 저장\n",
    "df.to_csv(\"배우.csv\",index = False, encoding = 'cp949')"
   ]
  },
  {
   "cell_type": "code",
   "execution_count": null,
   "id": "6c13da38-4251-4a4c-82b4-6e2ed9f7db3b",
   "metadata": {},
   "outputs": [],
   "source": []
  },
  {
   "cell_type": "markdown",
   "id": "9f611c7b-a253-4773-8fd7-7eb06b7809df",
   "metadata": {
    "jp-MarkdownHeadingCollapsed": true
   },
   "source": [
    "# 정보 체크하는데 사용한 코드\n",
    "조인 전에 조인할 키 값이 전부 맞는지 확인 하는 용"
   ]
  },
  {
   "cell_type": "code",
   "execution_count": null,
   "id": "d5a000f0-0b8e-43a7-bd72-09e2fdc22bdb",
   "metadata": {},
   "outputs": [],
   "source": [
    "# 이미지 파일을 다른 파일로 옮기는데 사용 \n",
    "# ex) 데이터 프레임에서 이미지 이름들을 가져오고 그 이미지를 옮기면 원래 파일에는 데이터 프레임에 없는 이미지만 남게됨\n",
    "\n",
    "import os\n",
    "import shutil\n",
    "\n",
    "# 필터링된 DataFrame에서 '이미지 이름' 컬럼의 값들을 가져옵니다.\n",
    "image_names = temp_merge['이미지 이름'].tolist()\n",
    "\n",
    "# 이미지가 저장될 폴더 이름\n",
    "output_folder = \"filtered_images(2022-2024)\"\n",
    "\n",
    "# 폴더가 존재하지 않으면 생성합니다.\n",
    "if not os.path.exists(output_folder):\n",
    "    os.makedirs(output_folder)\n",
    "\n",
    "# movie_poster_all 폴더에서 해당 이미지들을 output_folder로 이동시킵니다.\n",
    "for image_name in image_names:\n",
    "    source_path = os.path.join(\"movie_poster_all\", image_name)\n",
    "    if os.path.exists(source_path):\n",
    "        shutil.move(source_path, output_folder)\n",
    "\n",
    "print(\"이미지 이동이 완료되었습니다.\")\n"
   ]
  },
  {
   "cell_type": "code",
   "execution_count": null,
   "id": "973a144a-682f-4455-83c7-9676931e00c1",
   "metadata": {},
   "outputs": [],
   "source": [
    "# 이미지 파일을 다른 파일로 복사하는데 사용\n",
    "import os\n",
    "import shutil\n",
    "\n",
    "# 필터링된 DataFrame에서 '이미지 이름' 컬럼의 값들을 가져옵니다.\n",
    "image_names = null_list\n",
    "\n",
    "# 이미지가 저장될 폴더 이름\n",
    "output_folder = \"xxxxxxxx\"\n",
    "\n",
    "# 폴더가 존재하지 않으면 생성합니다.\n",
    "if not os.path.exists(output_folder):\n",
    "    os.makedirs(output_folder)\n",
    "\n",
    "# movie_poster_all 폴더에서 해당 이미지들을 output_folder로 복사합니다.\n",
    "for image_name in image_names:\n",
    "    source_path = os.path.join(\"movie_poster_all\", image_name)\n",
    "    if os.path.exists(source_path):\n",
    "        shutil.copy(source_path, output_folder)\n",
    "\n",
    "print(\"이미지 복사가 완료되었습니다.\")\n"
   ]
  },
  {
   "cell_type": "code",
   "execution_count": null,
   "id": "230dfce8-5c69-4a22-b102-82d407e6d8f1",
   "metadata": {},
   "outputs": [],
   "source": [
    "# 이미지를 모아 둔 파일 끼리 크로스 체크용\n",
    "\n",
    "import os\n",
    "\n",
    "# error_images_all 폴더 내의 모든 jpg 파일 가져오기\n",
    "error_image_files = [file for file in os.listdir(\"error_images_all\") if file.endswith('.jpg')]\n",
    "\n",
    "# 압축 이미지 파일 내의 모든 jpg 파일 가져오기\n",
    "compressed_image_files = [file for file in os.listdir(\"압축 이미지\") if file.endswith('.jpg')]\n",
    "\n",
    "# 같지 않은 이미지 파일 찾기\n",
    "different_images = [file for file in error_image_files if file not in compressed_image_files]\n",
    "\n",
    "print(\"같지 않은 이미지 파일:\")\n",
    "print(different_images)\n"
   ]
  },
  {
   "cell_type": "code",
   "execution_count": null,
   "id": "ec459d4a-4c2e-4640-bddd-5c0dfcda9432",
   "metadata": {},
   "outputs": [],
   "source": [
    "# 파일 불러서 리스트로 저장\n",
    "import pandas as pd\n",
    "import numpy as np\n",
    "import os\n",
    "\n",
    "directory = r'C:/Users/NT551XCJ/Desktop/MLproject/image_1693제외'\n",
    "\n",
    "files = os.listdir(directory)\n",
    "\n",
    "# directory 경로 안에서 jpg인 파일만 파일 이름을 리스트로 저장\n",
    "jpg_files = [file for file in files if file.endswith('.jpg')]\n",
    "\n",
    "jpg_files\n"
   ]
  },
  {
   "cell_type": "code",
   "execution_count": null,
   "id": "86d94e88-b551-4f56-9baf-bc353512def5",
   "metadata": {},
   "outputs": [],
   "source": [
    "# 각 두개의 데이터 프레임에서 이름이 다르거나 없는 행 찾기\n",
    "# text 데이터의 이미지 이름과 영화 크롤링 데이터 프레임에 있는 이미지 이름이 달라서 아래 코드를 이용해 다른 부분을 찾고 맞게 바꿔서 조인해줌\n",
    "\n",
    "# kobis_df에서 이미지 이름 추출\n",
    "df_name = set(text_df['이미지 이름'].unique())\n",
    "\n",
    "# rgb_df에서 타이틀 추출\n",
    "text_df_name = set(temp_merge['이미지 이름'].unique())\n",
    "\n",
    "# kobis_df와 rgb_df에서 각각 다른 이미지 이름을 집합 연산으로 추출\n",
    "different_names_in_df = df_name - text_df_name\n",
    "different_names_in_text_df = text_df_name - df_name\n",
    "\n",
    "# 각각 다른 제목을 리스트로 변환하고 내림차순으로 정렬\n",
    "different_names_in_df_sorted = sorted(list(different_names_in_df), reverse=True)\n",
    "different_names_in_text_df_sorted = sorted(list(different_names_in_text_df), reverse=True)\n",
    "\n",
    "# 결과 출력\n",
    "print(\"kobis_df에만 있는 이미지 이름 (내림차순 정렬):\")\n",
    "print(different_names_in_df_sorted)\n",
    "print(\"\\ntext_df에만 있는 이미지 이름 (내림차순 정렬):\")\n",
    "print(different_names_in_text_df_sorted)\n"
   ]
  },
  {
   "cell_type": "markdown",
   "id": "e6e7a048-a5e3-4a1d-aff7-6fce94b3666e",
   "metadata": {
    "jp-MarkdownHeadingCollapsed": true
   },
   "source": [
    "# 포스터에 배우 몇명 출연하는지 분포 확인 (EDA)\n",
    "분포 확인 용"
   ]
  },
  {
   "cell_type": "code",
   "execution_count": null,
   "id": "f3891ac2-1d8e-4d89-94b7-17644268e502",
   "metadata": {},
   "outputs": [],
   "source": [
    "from selenium.webdriver.chrome.service import Service\n",
    "from selenium.webdriver.common.by import By\n",
    "import time\n",
    "from selenium.webdriver.support.ui import WebDriverWait\n",
    "from selenium.webdriver.chrome.options import Options\n",
    "from selenium.webdriver.support import expected_conditions as ec\n",
    "from selenium.webdriver.common.keys import Keys\n",
    "from bs4 import BeautifulSoup\n",
    "import pandas as pd\n",
    "import re\n",
    "import datetime\n",
    "import urllib.request\n",
    "import urllib\n",
    "from tqdm import tqdm\n",
    "import pandas as pd\n",
    "import matplotlib.pyplot as plt\n",
    "import warnings\n",
    "warnings.simplefilter(action='ignore', category=FutureWarning)"
   ]
  },
  {
   "cell_type": "code",
   "execution_count": null,
   "id": "53d64403-3f77-4e13-93ed-e72b9d252b14",
   "metadata": {},
   "outputs": [],
   "source": [
    "# 폰트 리스트 출력\n",
    "import matplotlib.font_manager as fm\n",
    "\n",
    "font_list = fm.findSystemFonts(fontpaths = None, fontext = 'ttf')\n",
    "font_list[:]"
   ]
  },
  {
   "cell_type": "code",
   "execution_count": null,
   "id": "917a6562-b0aa-486c-bb9a-31b2c3b7bdad",
   "metadata": {},
   "outputs": [],
   "source": [
    "# 그래프 한글 오류 해결\n",
    "\n",
    "from matplotlib import rc\n",
    "import matplotlib.font_manager as fm\n",
    "import matplotlib\n",
    "# 디렉토리 및 파일 이름에 맞추어 변경\n",
    "font_location = 'C:\\\\Windows\\\\Fonts\\\\malgun.ttf'\n",
    "\n",
    "font_name = fm.FontProperties(fname=font_location).get_name()\n",
    "rc('font', family=font_name)\n",
    "\n",
    "matplotlib.rcParams['axes.unicode_minus'] = False"
   ]
  },
  {
   "cell_type": "code",
   "execution_count": null,
   "id": "04c96239-e872-4466-abe1-859b44129f9e",
   "metadata": {},
   "outputs": [],
   "source": [
    "test.to_csv(\"face 전체 원본.csv\",index = False, encoding = 'cp949')"
   ]
  },
  {
   "cell_type": "code",
   "execution_count": null,
   "id": "cafeb642-66c3-4c5d-99c0-39ab5c6c4bc7",
   "metadata": {},
   "outputs": [],
   "source": [
    "# 배우가 없는 애니메이션 같은 값들은 -1을 넣어줌\n",
    "test = test[['배우','이미지 이름']].fillna(-1)\n",
    "\n",
    "# 같은 이미지 이름 중 배우 컬럼의 가장 큰 값을 넣어줌 \n",
    "temp = test.groupby('이미지 이름').max()\n",
    "temp.reset_index(inplace = True)\n",
    "\n",
    "# 배우의 명수 분포를 의미하는 데이터프레임\n",
    "temp = temp.groupby('배우').count()\n",
    "temp = temp.reset_index()\n",
    "\n",
    "# 현재 배우가 0부터 시작함 0은 1을 의미함, -1은 0을 의미\n",
    "# 0이 없음을 뜻하도록 +1을 해줌\n",
    "temp['배우'] = temp['배우']+1\n",
    "temp = temp['이미지 이름']"
   ]
  },
  {
   "cell_type": "code",
   "execution_count": null,
   "id": "8a06e42e-f40a-4b2d-b1c8-a9e11ace63e8",
   "metadata": {},
   "outputs": [],
   "source": [
    "# 막대 그래프 그리기\n",
    "plt.figure(figsize=(15, 7))\n",
    "plt.bar(range(len(temp)), temp, color='orange')\n",
    "plt.title('배우 수 분포')\n",
    "plt.xlabel('명수')\n",
    "plt.ylabel('배우 수')\n",
    "plt.show()"
   ]
  }
 ],
 "metadata": {
  "colab": {
   "provenance": []
  },
  "kernelspec": {
   "display_name": "Python 3 (ipykernel)",
   "language": "python",
   "name": "python3"
  },
  "language_info": {
   "codemirror_mode": {
    "name": "ipython",
    "version": 3
   },
   "file_extension": ".py",
   "mimetype": "text/x-python",
   "name": "python",
   "nbconvert_exporter": "python",
   "pygments_lexer": "ipython3",
   "version": "3.11.7"
  }
 },
 "nbformat": 4,
 "nbformat_minor": 5
}
