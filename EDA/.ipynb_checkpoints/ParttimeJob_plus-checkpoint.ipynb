{
 "cells": [
  {
   "cell_type": "code",
   "execution_count": null,
   "id": "de417d1c-dd09-470a-b901-16846f204119",
   "metadata": {},
   "outputs": [],
   "source": [
    "## 원데이터에서 추가 컬럼 생성 후 total data 생성\n",
    "\n",
    "## 수정된 컬럼\n",
    "# 1) 더미변수 (일경험, 사장, 동료 평가항목)\n",
    "# 2) 추가변수 (브랜드구분)\n",
    "# 3) 파생변수 (재직일 : 종료일 - 시작일, 월까지만 나타나서 1일을 기준으로 했음)"
   ]
  },
  {
   "cell_type": "code",
   "execution_count": 270,
   "id": "f58644e8-c9b9-4bdf-a99b-f6a71fdd6c43",
   "metadata": {},
   "outputs": [],
   "source": [
    "import os\n",
    "import pandas as pd\n",
    "from datetime import datetime\n",
    "\n",
    "\n",
    "# 연관분석시 더미변수 만들 때 사용하는 함수\n",
    "from mlxtend.preprocessing import TransactionEncoder"
   ]
  },
  {
   "cell_type": "code",
   "execution_count": 271,
   "id": "1e204cec-fc05-4694-99ea-7e68d603282f",
   "metadata": {},
   "outputs": [],
   "source": [
    "# 데이터 불러오기\n",
    "\n",
    "df_GS = pd.read_csv(\".\\\\convenience_GS.csv\") #GS25\n",
    "df_CU = pd.read_csv(\".\\\\convenience_CU.csv\") #CU\n",
    "df_SV = pd.read_csv(\".\\\\convenience_SV.csv\") #seven eleven\n",
    "\n",
    "df_SB = pd.read_csv(\".\\\\coffeeH_SB.csv\") #starbucks\n",
    "df_TS = pd.read_csv(\".\\\\coffeeH_TS.csv\") #twosome\n",
    "df_ED = pd.read_csv(\".\\\\coffeeH_ED.csv\") #ediya\n",
    "df_PC = pd.read_csv(\".\\\\coffeeH_PC.csv\") #pascucci\n",
    "\n",
    "df_MG = pd.read_csv(\".\\\\coffeeL_MG.csv\") #mega \n",
    "df_PK = pd.read_csv(\".\\\\coffeeL_PK.csv\") #pack dabang\n",
    "df_CP = pd.read_csv(\".\\\\coffeeL_CP.csv\") #compose\n",
    "df_TB = pd.read_csv(\".\\\\coffeeL_TB.csv\") #the venti B라고 한 거 실수;;\n",
    "\n",
    "df_UC = pd.read_csv(\".\\\\clothes_UC.csv\") #Uniqlo\n",
    "df_TT = pd.read_csv(\".\\\\clothes_TT.csv\") #TopTen\n",
    "df_8S = pd.read_csv(\".\\\\clothes_8S.csv\") #8seconds\n",
    "df_MS = pd.read_csv(\".\\\\clothes_MS.csv\") #misso\n",
    "\n",
    "df_CGV = pd.read_csv(\".\\\\theater_CGV.csv\") #CGV\n",
    "df_MB = pd.read_csv(\".\\\\theater_MB.csv\") #megabox\n",
    "df_LC = pd.read_csv(\".\\\\theater_LC.csv\") #lotte cinema\n"
   ]
  },
  {
   "cell_type": "code",
   "execution_count": 278,
   "id": "a43fcf3c-ddfd-40c1-8cab-648f6f8e3f88",
   "metadata": {},
   "outputs": [],
   "source": [
    "# 더미변수 만들어서 데이터 프레임 만듬\n",
    "# 각 값이 리스트로 들어갔기 때문에 문자열로 변환 후 각 값을 컬럼으로 함.\n",
    "\n",
    "def b_question(brand, start):\n",
    "    Q1 = brand.iloc[:,start:start+1].apply(lambda x : x.str.replace(pat=r\"\\[|\\]|\\'|\\ \", repl =r'', regex=True))\n",
    "    Q1 = Q1.apply(lambda x :  x.str.split(','))\n",
    "    Q1 = Q1.values.tolist()\n",
    "    Q1 = sum(Q1, [])\n",
    "    \n",
    "    te_1 = TransactionEncoder()\n",
    "    te_ary1 = te_1.fit(Q1).transform(Q1)\n",
    "    \n",
    "    df_Q1 = pd.DataFrame(te_ary1, columns = te_1.columns_)\n",
    "\n",
    "    if start==9:\n",
    "        df_Q1 = df_Q1.rename(columns ={'배울점많아요': \"배울점많아요(동료)\"})\n",
    "    \n",
    "    return df_Q1"
   ]
  },
  {
   "cell_type": "code",
   "execution_count": 273,
   "id": "af9c6a06-3968-4f4c-b10b-ff73d195644c",
   "metadata": {},
   "outputs": [],
   "source": [
    "# 리스트를 문자열로 분리시 ',' 로 분리하면서 컬럼이 2개 생성된 답변 수정\n",
    "\n",
    "def cl(brand):\n",
    "    i = brand.drop([\"친한언니\",\"시간\"], axis=1)\n",
    "    i = i.rename(columns={'형처럼편해요': '친한언니,형처럼편해요', '일정고려해줘요': '시간,일정고려해줘요'})\n",
    "    return i\n",
    "    "
   ]
  },
  {
   "cell_type": "code",
   "execution_count": 274,
   "id": "c1f46140-4557-4f17-a685-011681dfd1f0",
   "metadata": {},
   "outputs": [],
   "source": [
    "# 추가 컬럼 생성(브랜드 구분)\n",
    "\n",
    "df_GS[\"brand\"] = \"GS\"\n",
    "df_CU[\"brand\"] = \"CU\"\n",
    "df_SV[\"brand\"] = \"SV\"\n",
    "\n",
    "df_SB[\"brand\"] = \"GS\"\n",
    "df_TS[\"brand\"] = \"CU\"\n",
    "df_ED[\"brand\"] = \"ED\"\n",
    "df_PC[\"brand\"] = \"PC\"\n",
    "\n",
    "df_MG[\"brand\"] = \"MG\"\n",
    "df_PK[\"brand\"] = \"PK\"\n",
    "df_CP[\"brand\"] = \"CP\"\n",
    "df_TB[\"brand\"] = \"TB\"\n",
    "\n",
    "df_UC[\"brand\"] = \"UC\"\n",
    "df_TT[\"brand\"] = \"TT\"\n",
    "df_8S[\"brand\"] = \"8S\"\n",
    "df_MS[\"brand\"] = \"MS\"\n",
    "\n",
    "df_CGV[\"brand\"] = \"CGV\"\n",
    "df_MB[\"brand\"] = \"MB\"\n",
    "df_LC[\"brand\"] = \"LC\""
   ]
  },
  {
   "cell_type": "code",
   "execution_count": 296,
   "id": "8b4b0e73-a37e-40c2-b55b-0e8cf3b75d85",
   "metadata": {},
   "outputs": [],
   "source": [
    "# 더미변수 만든 것까지 합치기\n",
    "\n",
    "def tot(df):\n",
    "    Tot_brand = cl(pd.concat([df, b_question(df,7), b_question(df,8), b_question(df,9)],axis =1))\n",
    "    \n",
    "    print(Tot_brand)\n",
    "    Tot_brand.loc[:,\"work_StrDate\"] = Tot_brand.loc[:,\"work_StrDate\"].apply(lambda x :pd.to_datetime(str(x), format ='%Y%m') ) \n",
    "    Tot_brand.loc[:,\"work_EndDate\"] = Tot_brand.loc[:,\"work_EndDate\"].apply(lambda x :pd.to_datetime(str(x), format ='%Y%m') )\n",
    "\n",
    "    Tot_brand[\"wk_dr\"] = (Tot_brand[\"work_EndDate\"] - Tot_brand[\"work_StrDate\"]).dt.days\n",
    "\n",
    "    return Tot_brand"
   ]
  },
  {
   "cell_type": "code",
   "execution_count": 293,
   "id": "343c7759-a0d3-4f35-8b51-b9f7723b045d",
   "metadata": {},
   "outputs": [],
   "source": [
    "# 전체 데이터 만들기, 인덱스 재정렬\n",
    "\n",
    "convenience = pd.concat([df_GS, df_CU, df_SV],ignore_index =True).drop('Unnamed: 0', axis=1)\n",
    "coffeeH = pd.concat([df_SB, df_TS, df_ED, df_PC],ignore_index =True).drop('Unnamed: 0', axis=1)\n",
    "coffeeL = pd.concat([df_MG, df_PK, df_CP, df_TB],ignore_index =True).drop('Unnamed: 0', axis=1)\n",
    "clothes = pd.concat([df_UC, df_TT, df_8S, df_MS],ignore_index =True).drop('Unnamed: 0', axis=1)\n",
    "theater = pd.concat([df_CGV, df_MB, df_LC],ignore_index =True).drop('Unnamed: 0', axis=1)"
   ]
  },
  {
   "cell_type": "code",
   "execution_count": 294,
   "id": "fe8abc33-a823-42d0-8ab6-b87687242877",
   "metadata": {},
   "outputs": [],
   "source": [
    "# 전체 데이터 + 더미변수 = 사용할 데이터 완성!\n",
    "\n",
    "tot_convenience = tot(convenience)\n",
    "tot_coffeeH = tot(coffeeH)\n",
    "tot_coffeeL = tot(coffeeL)\n",
    "tot_clothes = tot(clothes)\n",
    "tot_theater = tot(theater)"
   ]
  },
  {
   "cell_type": "code",
   "execution_count": 295,
   "id": "3ee235c3-df6e-4f3d-9d36-4321e383617d",
   "metadata": {},
   "outputs": [],
   "source": [
    "# 파일로 저장\n",
    "\n",
    "tot_convenience.to_csv(\".\\\\tot_convenience.csv\", header=True, sep=',')\n",
    "tot_coffeeH.to_csv(\".\\\\tot_coffeeH.csv\", header=True, sep=',')\n",
    "tot_coffeeL.to_csv(\".\\\\tot_coffeeL.csv\", header=True, sep=',')\n",
    "tot_clothes.to_csv(\".\\\\tot_clothes.csv\", header=True, sep=',')\n",
    "tot_theater.to_csv(\".\\\\tot_theater.csv\", header=True, sep=',')"
   ]
  }
 ],
 "metadata": {
  "kernelspec": {
   "display_name": "Python 3 (ipykernel)",
   "language": "python",
   "name": "python3"
  },
  "language_info": {
   "codemirror_mode": {
    "name": "ipython",
    "version": 3
   },
   "file_extension": ".py",
   "mimetype": "text/x-python",
   "name": "python",
   "nbconvert_exporter": "python",
   "pygments_lexer": "ipython3",
   "version": "3.11.7"
  }
 },
 "nbformat": 4,
 "nbformat_minor": 5
}
