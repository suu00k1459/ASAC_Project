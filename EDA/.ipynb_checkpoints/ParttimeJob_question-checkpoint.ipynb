{
 "cells": [
  {
   "cell_type": "markdown",
   "id": "e36621c0-6ef7-4a55-a210-213cdf012ba8",
   "metadata": {},
   "source": [
    "## 안봐도 상관 없음!!\n",
    "\n",
    "## 상관계수랑, 각 질문 선택 비율, 그 외 필요한 값 확인용으로 만든 페이지임."
   ]
  },
  {
   "cell_type": "markdown",
   "id": "29da36ae-b47c-4b80-9d25-32996f72b9c7",
   "metadata": {},
   "source": [
    "### 패키지 및 파일 불러오기"
   ]
  },
  {
   "cell_type": "code",
   "execution_count": 272,
   "id": "10f2432a-1c6c-4589-8299-6076574dd71f",
   "metadata": {},
   "outputs": [
    {
     "name": "stdout",
     "output_type": "stream",
     "text": [
      "Collecting dataframe_image\n",
      "  Downloading dataframe_image-0.2.3-py3-none-any.whl.metadata (8.9 kB)\n",
      "Requirement already satisfied: pandas>=0.24 in c:\\users\\nt551xcj\\anaconda3\\lib\\site-packages (from dataframe_image) (2.1.4)\n",
      "Requirement already satisfied: nbconvert>=5 in c:\\users\\nt551xcj\\anaconda3\\lib\\site-packages (from dataframe_image) (7.10.0)\n",
      "Requirement already satisfied: aiohttp in c:\\users\\nt551xcj\\anaconda3\\lib\\site-packages (from dataframe_image) (3.9.3)\n",
      "Requirement already satisfied: requests in c:\\users\\nt551xcj\\anaconda3\\lib\\site-packages (from dataframe_image) (2.31.0)\n",
      "Requirement already satisfied: pillow in c:\\users\\nt551xcj\\anaconda3\\lib\\site-packages (from dataframe_image) (10.2.0)\n",
      "Requirement already satisfied: packaging in c:\\users\\nt551xcj\\anaconda3\\lib\\site-packages (from dataframe_image) (23.1)\n",
      "Requirement already satisfied: mistune in c:\\users\\nt551xcj\\anaconda3\\lib\\site-packages (from dataframe_image) (2.0.4)\n",
      "Requirement already satisfied: lxml in c:\\users\\nt551xcj\\anaconda3\\lib\\site-packages (from dataframe_image) (4.9.3)\n",
      "Requirement already satisfied: beautifulsoup4 in c:\\users\\nt551xcj\\anaconda3\\lib\\site-packages (from dataframe_image) (4.12.2)\n",
      "Collecting cssutils (from dataframe_image)\n",
      "  Downloading cssutils-2.10.2-py3-none-any.whl.metadata (8.7 kB)\n",
      "Collecting html2image (from dataframe_image)\n",
      "  Downloading html2image-2.0.4.3-py3-none-any.whl.metadata (14 kB)\n",
      "Requirement already satisfied: bleach!=5.0.0 in c:\\users\\nt551xcj\\anaconda3\\lib\\site-packages (from nbconvert>=5->dataframe_image) (4.1.0)\n",
      "Requirement already satisfied: defusedxml in c:\\users\\nt551xcj\\anaconda3\\lib\\site-packages (from nbconvert>=5->dataframe_image) (0.7.1)\n",
      "Requirement already satisfied: jinja2>=3.0 in c:\\users\\nt551xcj\\anaconda3\\lib\\site-packages (from nbconvert>=5->dataframe_image) (3.1.3)\n",
      "Requirement already satisfied: jupyter-core>=4.7 in c:\\users\\nt551xcj\\anaconda3\\lib\\site-packages (from nbconvert>=5->dataframe_image) (5.5.0)\n",
      "Requirement already satisfied: jupyterlab-pygments in c:\\users\\nt551xcj\\anaconda3\\lib\\site-packages (from nbconvert>=5->dataframe_image) (0.1.2)\n",
      "Requirement already satisfied: markupsafe>=2.0 in c:\\users\\nt551xcj\\anaconda3\\lib\\site-packages (from nbconvert>=5->dataframe_image) (2.1.3)\n",
      "Requirement already satisfied: nbclient>=0.5.0 in c:\\users\\nt551xcj\\anaconda3\\lib\\site-packages (from nbconvert>=5->dataframe_image) (0.8.0)\n",
      "Requirement already satisfied: nbformat>=5.7 in c:\\users\\nt551xcj\\anaconda3\\lib\\site-packages (from nbconvert>=5->dataframe_image) (5.9.2)\n",
      "Requirement already satisfied: pandocfilters>=1.4.1 in c:\\users\\nt551xcj\\anaconda3\\lib\\site-packages (from nbconvert>=5->dataframe_image) (1.5.0)\n",
      "Requirement already satisfied: pygments>=2.4.1 in c:\\users\\nt551xcj\\anaconda3\\lib\\site-packages (from nbconvert>=5->dataframe_image) (2.15.1)\n",
      "Requirement already satisfied: tinycss2 in c:\\users\\nt551xcj\\anaconda3\\lib\\site-packages (from nbconvert>=5->dataframe_image) (1.2.1)\n",
      "Requirement already satisfied: traitlets>=5.1 in c:\\users\\nt551xcj\\anaconda3\\lib\\site-packages (from nbconvert>=5->dataframe_image) (5.7.1)\n",
      "Requirement already satisfied: numpy<2,>=1.23.2 in c:\\users\\nt551xcj\\anaconda3\\lib\\site-packages (from pandas>=0.24->dataframe_image) (1.26.4)\n",
      "Requirement already satisfied: python-dateutil>=2.8.2 in c:\\users\\nt551xcj\\anaconda3\\lib\\site-packages (from pandas>=0.24->dataframe_image) (2.8.2)\n",
      "Requirement already satisfied: pytz>=2020.1 in c:\\users\\nt551xcj\\anaconda3\\lib\\site-packages (from pandas>=0.24->dataframe_image) (2023.3.post1)\n",
      "Requirement already satisfied: tzdata>=2022.1 in c:\\users\\nt551xcj\\anaconda3\\lib\\site-packages (from pandas>=0.24->dataframe_image) (2023.3)\n",
      "Requirement already satisfied: aiosignal>=1.1.2 in c:\\users\\nt551xcj\\anaconda3\\lib\\site-packages (from aiohttp->dataframe_image) (1.2.0)\n",
      "Requirement already satisfied: attrs>=17.3.0 in c:\\users\\nt551xcj\\anaconda3\\lib\\site-packages (from aiohttp->dataframe_image) (23.1.0)\n",
      "Requirement already satisfied: frozenlist>=1.1.1 in c:\\users\\nt551xcj\\anaconda3\\lib\\site-packages (from aiohttp->dataframe_image) (1.4.0)\n",
      "Requirement already satisfied: multidict<7.0,>=4.5 in c:\\users\\nt551xcj\\anaconda3\\lib\\site-packages (from aiohttp->dataframe_image) (6.0.4)\n",
      "Requirement already satisfied: yarl<2.0,>=1.0 in c:\\users\\nt551xcj\\anaconda3\\lib\\site-packages (from aiohttp->dataframe_image) (1.9.3)\n",
      "Requirement already satisfied: soupsieve>1.2 in c:\\users\\nt551xcj\\anaconda3\\lib\\site-packages (from beautifulsoup4->dataframe_image) (2.5)\n",
      "Collecting websocket-client<2.0.0,>=1.0.0 (from html2image->dataframe_image)\n",
      "  Downloading websocket_client-1.8.0-py3-none-any.whl.metadata (8.0 kB)\n",
      "Requirement already satisfied: charset-normalizer<4,>=2 in c:\\users\\nt551xcj\\anaconda3\\lib\\site-packages (from requests->dataframe_image) (2.0.4)\n",
      "Requirement already satisfied: idna<4,>=2.5 in c:\\users\\nt551xcj\\anaconda3\\lib\\site-packages (from requests->dataframe_image) (3.4)\n",
      "Requirement already satisfied: urllib3<3,>=1.21.1 in c:\\users\\nt551xcj\\anaconda3\\lib\\site-packages (from requests->dataframe_image) (2.0.7)\n",
      "Requirement already satisfied: certifi>=2017.4.17 in c:\\users\\nt551xcj\\anaconda3\\lib\\site-packages (from requests->dataframe_image) (2024.2.2)\n",
      "Requirement already satisfied: six>=1.9.0 in c:\\users\\nt551xcj\\anaconda3\\lib\\site-packages (from bleach!=5.0.0->nbconvert>=5->dataframe_image) (1.16.0)\n",
      "Requirement already satisfied: webencodings in c:\\users\\nt551xcj\\anaconda3\\lib\\site-packages (from bleach!=5.0.0->nbconvert>=5->dataframe_image) (0.5.1)\n",
      "Requirement already satisfied: platformdirs>=2.5 in c:\\users\\nt551xcj\\anaconda3\\lib\\site-packages (from jupyter-core>=4.7->nbconvert>=5->dataframe_image) (3.10.0)\n",
      "Requirement already satisfied: pywin32>=300 in c:\\users\\nt551xcj\\anaconda3\\lib\\site-packages (from jupyter-core>=4.7->nbconvert>=5->dataframe_image) (305.1)\n",
      "Requirement already satisfied: jupyter-client>=6.1.12 in c:\\users\\nt551xcj\\anaconda3\\lib\\site-packages (from nbclient>=0.5.0->nbconvert>=5->dataframe_image) (8.6.0)\n",
      "Requirement already satisfied: fastjsonschema in c:\\users\\nt551xcj\\anaconda3\\lib\\site-packages (from nbformat>=5.7->nbconvert>=5->dataframe_image) (2.16.2)\n",
      "Requirement already satisfied: jsonschema>=2.6 in c:\\users\\nt551xcj\\anaconda3\\lib\\site-packages (from nbformat>=5.7->nbconvert>=5->dataframe_image) (4.19.2)\n",
      "Requirement already satisfied: jsonschema-specifications>=2023.03.6 in c:\\users\\nt551xcj\\anaconda3\\lib\\site-packages (from jsonschema>=2.6->nbformat>=5.7->nbconvert>=5->dataframe_image) (2023.7.1)\n",
      "Requirement already satisfied: referencing>=0.28.4 in c:\\users\\nt551xcj\\anaconda3\\lib\\site-packages (from jsonschema>=2.6->nbformat>=5.7->nbconvert>=5->dataframe_image) (0.30.2)\n",
      "Requirement already satisfied: rpds-py>=0.7.1 in c:\\users\\nt551xcj\\anaconda3\\lib\\site-packages (from jsonschema>=2.6->nbformat>=5.7->nbconvert>=5->dataframe_image) (0.10.6)\n",
      "Requirement already satisfied: pyzmq>=23.0 in c:\\users\\nt551xcj\\anaconda3\\lib\\site-packages (from jupyter-client>=6.1.12->nbclient>=0.5.0->nbconvert>=5->dataframe_image) (25.1.2)\n",
      "Requirement already satisfied: tornado>=6.2 in c:\\users\\nt551xcj\\anaconda3\\lib\\site-packages (from jupyter-client>=6.1.12->nbclient>=0.5.0->nbconvert>=5->dataframe_image) (6.3.3)\n",
      "Downloading dataframe_image-0.2.3-py3-none-any.whl (6.7 MB)\n",
      "   ---------------------------------------- 0.0/6.7 MB ? eta -:--:--\n",
      "    --------------------------------------- 0.2/6.7 MB 3.1 MB/s eta 0:00:03\n",
      "   --- ------------------------------------ 0.5/6.7 MB 5.5 MB/s eta 0:00:02\n",
      "   ----- ---------------------------------- 0.9/6.7 MB 7.0 MB/s eta 0:00:01\n",
      "   ------ --------------------------------- 1.2/6.7 MB 6.7 MB/s eta 0:00:01\n",
      "   -------- ------------------------------- 1.5/6.7 MB 6.2 MB/s eta 0:00:01\n",
      "   ---------- ----------------------------- 1.7/6.7 MB 6.1 MB/s eta 0:00:01\n",
      "   ------------ --------------------------- 2.0/6.7 MB 6.1 MB/s eta 0:00:01\n",
      "   ------------- -------------------------- 2.3/6.7 MB 6.4 MB/s eta 0:00:01\n",
      "   ---------------- ----------------------- 2.7/6.7 MB 6.7 MB/s eta 0:00:01\n",
      "   ------------------ --------------------- 3.1/6.7 MB 6.8 MB/s eta 0:00:01\n",
      "   --------------------- ------------------ 3.5/6.7 MB 6.8 MB/s eta 0:00:01\n",
      "   ---------------------- ----------------- 3.7/6.7 MB 6.6 MB/s eta 0:00:01\n",
      "   ----------------------- ---------------- 3.9/6.7 MB 6.7 MB/s eta 0:00:01\n",
      "   ------------------------ --------------- 4.1/6.7 MB 6.4 MB/s eta 0:00:01\n",
      "   -------------------------- ------------- 4.5/6.7 MB 6.4 MB/s eta 0:00:01\n",
      "   ---------------------------- ----------- 4.7/6.7 MB 6.4 MB/s eta 0:00:01\n",
      "   ----------------------------- ---------- 4.8/6.7 MB 6.2 MB/s eta 0:00:01\n",
      "   ------------------------------- -------- 5.2/6.7 MB 6.3 MB/s eta 0:00:01\n",
      "   ------------------------------- -------- 5.3/6.7 MB 6.1 MB/s eta 0:00:01\n",
      "   --------------------------------- ------ 5.6/6.7 MB 6.1 MB/s eta 0:00:01\n",
      "   ---------------------------------- ----- 5.7/6.7 MB 5.9 MB/s eta 0:00:01\n",
      "   ----------------------------------- ---- 6.0/6.7 MB 5.9 MB/s eta 0:00:01\n",
      "   ----------------------------------- ---- 6.0/6.7 MB 5.8 MB/s eta 0:00:01\n",
      "   ------------------------------------ --- 6.1/6.7 MB 5.5 MB/s eta 0:00:01\n",
      "   ------------------------------------- -- 6.2/6.7 MB 5.5 MB/s eta 0:00:01\n",
      "   -------------------------------------- - 6.3/6.7 MB 5.3 MB/s eta 0:00:01\n",
      "   ---------------------------------------  6.5/6.7 MB 5.3 MB/s eta 0:00:01\n",
      "   ---------------------------------------  6.5/6.7 MB 5.3 MB/s eta 0:00:01\n",
      "   ---------------------------------------  6.6/6.7 MB 4.9 MB/s eta 0:00:01\n",
      "   ---------------------------------------  6.7/6.7 MB 4.9 MB/s eta 0:00:01\n",
      "   ---------------------------------------- 6.7/6.7 MB 4.7 MB/s eta 0:00:00\n",
      "Downloading cssutils-2.10.2-py3-none-any.whl (398 kB)\n",
      "   ---------------------------------------- 0.0/398.1 kB ? eta -:--:--\n",
      "   ------------------- -------------------- 194.6/398.1 kB 5.8 MB/s eta 0:00:01\n",
      "   ---------------------------------------  389.1/398.1 kB 6.0 MB/s eta 0:00:01\n",
      "   ---------------------------------------- 398.1/398.1 kB 4.1 MB/s eta 0:00:00\n",
      "Downloading html2image-2.0.4.3-py3-none-any.whl (27 kB)\n",
      "Downloading websocket_client-1.8.0-py3-none-any.whl (58 kB)\n",
      "   ---------------------------------------- 0.0/58.8 kB ? eta -:--:--\n",
      "   ---------------------------------------- 58.8/58.8 kB 3.2 MB/s eta 0:00:00\n",
      "Installing collected packages: websocket-client, cssutils, html2image, dataframe_image\n",
      "  Attempting uninstall: websocket-client\n",
      "    Found existing installation: websocket-client 0.58.0\n",
      "    Uninstalling websocket-client-0.58.0:\n",
      "      Successfully uninstalled websocket-client-0.58.0\n",
      "Successfully installed cssutils-2.10.2 dataframe_image-0.2.3 html2image-2.0.4.3 websocket-client-1.8.0\n",
      "Note: you may need to restart the kernel to use updated packages.\n"
     ]
    }
   ],
   "source": [
    "pip install dataframe_image"
   ]
  },
  {
   "cell_type": "code",
   "execution_count": 431,
   "id": "595b44e8-a259-4e2b-b0ba-e5880a72982c",
   "metadata": {},
   "outputs": [],
   "source": [
    "import pandas as pd\n",
    "\n",
    "# 테이블 색 지정, 이미지 저장용\n",
    "import seaborn as sns\n",
    "import dataframe_image as dfi\n",
    "\n",
    "\n",
    "# 카이제곱 검정(동질성 검정 할 거)\n",
    "import scipy.stats as stats \n",
    "\n",
    "\n",
    "# 더미변수 생성, 연관분석 할 거\n",
    "from mlxtend.preprocessing import TransactionEncoder \n",
    "from mlxtend.frequent_patterns import apriori, association_rules\n"
   ]
  },
  {
   "cell_type": "code",
   "execution_count": 274,
   "id": "c0f16bac-3101-4729-8c8f-956c6a7e5d67",
   "metadata": {},
   "outputs": [],
   "source": [
    "tot_convenience = pd.read_csv('.\\\\tot_convenience.csv', sep=',')\n",
    "tot_coffeeH = pd.read_csv('.\\\\tot_coffeeH.csv', sep=',')\n",
    "tot_coffeeL = pd.read_csv('.\\\\tot_coffeeL.csv', sep=',')\n",
    "tot_clothes = pd.read_csv('.\\\\tot_clothes.csv', sep=',')\n",
    "tot_theater = pd.read_csv('.\\\\tot_theater.csv', sep=',')"
   ]
  },
  {
   "cell_type": "code",
   "execution_count": 453,
   "id": "5934ca41-7c94-46a2-95d4-59baca907dca",
   "metadata": {},
   "outputs": [
    {
     "name": "stdout",
     "output_type": "stream",
     "text": [
      "편의점 : 122.0  약 4 달\n",
      "고가형카페 : 153.0  약 5 달\n",
      "저가형카페 : 123.0  약 4 달\n",
      "spa의류 : 92.0  약 3 달\n",
      "영화관 : 152.0  약 5 달\n"
     ]
    }
   ],
   "source": [
    "# 얼마 정도 일하나? (중앙값)\n",
    "data_list = [tot_convenience, tot_coffeeH, tot_coffeeL,  tot_clothes,  tot_theater]\n",
    "data_name = [\"편의점\", \"고가형카페\", \"저가형카페\", \"spa의류\",\"영화관\"]\n",
    "for i in range(len(data_list)):\n",
    "    print(data_name[i],\":\", data_list[i][\"wk_dr\"].median() , \" 약\", round(data_list[i][\"wk_dr\"].median()/30), \"달\" ) #122\n"
   ]
  },
  {
   "cell_type": "code",
   "execution_count": 252,
   "id": "f377f171-14df-47c1-a94b-89f3060232b8",
   "metadata": {},
   "outputs": [
    {
     "data": {
      "text/plain": [
       "Index(['경직된분위기예요', '근무환경쾌적해요', '동료가자주바뀌어요', '스펙에도움되어요', '식대따로나와요', '식사제공해줘요',\n",
       "       '야근/주말수당챙겨줘요', '업무량조금많아요', '역/정류장에서가까워요', '자유로운분위기예요', '잔일도해요',\n",
       "       '진상고객가끔있어요', '초보자도금방배워요', '퇴근시간칼이에요', '휴식시간가질수있어요'],\n",
       "      dtype='object')"
      ]
     },
     "execution_count": 252,
     "metadata": {},
     "output_type": "execute_result"
    }
   ],
   "source": [
    "#대박;;;; 편의점 주휴수당 있다고 답한 사람 한 명도 없음;;;(선택지에는 있는데 선택한 사람 아무도 없는 거임!)\n",
    "\n",
    "Q1 = tot_convenience.iloc[:,8:9].apply(lambda x : x.str.replace(pat=r\"\\[|\\]|\\'|\\ \", repl =r'', regex=True))\n",
    "Q1 = Q1.apply(lambda x :  x.str.split(','))\n",
    "Q1 = Q1.values.tolist()\n",
    "Q1 = sum(Q1, [])\n",
    "\n",
    "te_1 = TransactionEncoder()\n",
    "te_ary1 = te_1.fit(Q1).transform(Q1)\n",
    "\n",
    "df_Q1 = pd.DataFrame(te_ary1, columns = te_1.columns_)\n",
    "df_Q1.columns"
   ]
  },
  {
   "cell_type": "code",
   "execution_count": 254,
   "id": "0f86fba3-8d3e-4dbe-ad63-17a725c3137a",
   "metadata": {},
   "outputs": [
    {
     "name": "stdout",
     "output_type": "stream",
     "text": [
      "경직된분위기예요 : 14\n",
      "휴식시간가질수있어요 : 28\n",
      "가끔눈치보여요 : 29\n",
      "친한언니,형처럼편해요 : 40\n",
      "답답해요 : 41\n",
      "힘든일함께해줘요 : 52\n"
     ]
    }
   ],
   "source": [
    "# 컬럼 인덱스 확인 좀..\n",
    "Q1 = [\"경직된분위기예요\",\"휴식시간가질수있어요\"]\n",
    "Q2 = ['가끔눈치보여요','친한언니,형처럼편해요']\n",
    "Q3 = ['답답해요','힘든일함께해줘요']\n",
    "qlist = [Q1, Q2, Q3]\n",
    "for i in qlist:\n",
    "    for j in i:\n",
    "        print(j, \":\", tot_convenience.columns.get_loc(j))"
   ]
  },
  {
   "cell_type": "code",
   "execution_count": 275,
   "id": "b5997824-1903-4d20-9fed-2eaed3cd8e42",
   "metadata": {
    "scrolled": true
   },
   "outputs": [],
   "source": [
    "def question_ratio(data, ngtv_lst , start, end ):\n",
    "\n",
    "    # 컬러 바꿔줌\n",
    "    def color_cell(x, color):\n",
    "        color = f'background-color:{color}'\n",
    "        return color\n",
    "\n",
    "    lst = []\n",
    "    lst_name = data.columns[start:end+1]\n",
    "    \n",
    "    for i in range(start,end+1):\n",
    "        lst.append(list(data.iloc[:,i:i+1].value_counts()))\n",
    "        \n",
    "    #데이터 프레임 만들어주기\n",
    "    question_cnt = pd.DataFrame(lst, index = lst_name, columns = [\"선택X\", \"선택O\"])\n",
    "    question_cnt[\"선택비율\"] = question_cnt[\"선택O\"]/(question_cnt[\"선택X\"]+question_cnt[\"선택O\"])\n",
    "    \n",
    "    question_cnt = question_cnt.sort_values(by = \"선택비율\", ascending =False, )\n",
    "\n",
    "    \n",
    "    #색깔 지정 (부정적 선택지) 후 리턴\n",
    "    question_cnt = question_cnt.style.map(color_cell, color= \"lavenderblush\",subset=pd.IndexSlice[ngtv_lst,])\n",
    "\n",
    "    \n",
    "    return question_cnt"
   ]
  },
  {
   "cell_type": "code",
   "execution_count": 276,
   "id": "eb1808fd-ab77-47b5-9de0-2440922c6d43",
   "metadata": {},
   "outputs": [],
   "source": [
    "ngtv_q1 = ['경직된분위기예요','동료가자주바뀌어요', '업무량조금많아요','잔일도해요','진상고객가끔있어요']\n",
    "ngtv_q2 = ['가끔눈치보여요','감정적이에요','세대차이느껴져요','엄격해요','잔소리를좀해요']\n",
    "ngtv_q3 = ['답답해요','성비불균형있어요','쉬운일만골라해요','지각자주해요','텃세조금있어요']"
   ]
  },
  {
   "cell_type": "markdown",
   "id": "23a13e9c-7e32-4885-97bd-a7ee08e1557a",
   "metadata": {
    "jp-MarkdownHeadingCollapsed": true
   },
   "source": [
    "### 동질성 검정"
   ]
  },
  {
   "cell_type": "code",
   "execution_count": 337,
   "id": "cbce0fc6-b9eb-4737-a234-f84ea6c90855",
   "metadata": {},
   "outputs": [
    {
     "data": {
      "text/html": [
       "<div>\n",
       "<style scoped>\n",
       "    .dataframe tbody tr th:only-of-type {\n",
       "        vertical-align: middle;\n",
       "    }\n",
       "\n",
       "    .dataframe tbody tr th {\n",
       "        vertical-align: top;\n",
       "    }\n",
       "\n",
       "    .dataframe thead th {\n",
       "        text-align: right;\n",
       "    }\n",
       "</style>\n",
       "<table border=\"1\" class=\"dataframe\">\n",
       "  <thead>\n",
       "    <tr style=\"text-align: right;\">\n",
       "      <th>recom</th>\n",
       "      <th>글쎄요</th>\n",
       "      <th>추천해요</th>\n",
       "      <th>할만해요</th>\n",
       "    </tr>\n",
       "  </thead>\n",
       "  <tbody>\n",
       "    <tr>\n",
       "      <th>conv</th>\n",
       "      <td>705</td>\n",
       "      <td>770</td>\n",
       "      <td>2348</td>\n",
       "    </tr>\n",
       "    <tr>\n",
       "      <th>Hcof</th>\n",
       "      <td>258</td>\n",
       "      <td>324</td>\n",
       "      <td>695</td>\n",
       "    </tr>\n",
       "    <tr>\n",
       "      <th>Lcof</th>\n",
       "      <td>93</td>\n",
       "      <td>114</td>\n",
       "      <td>176</td>\n",
       "    </tr>\n",
       "    <tr>\n",
       "      <th>cloth</th>\n",
       "      <td>92</td>\n",
       "      <td>63</td>\n",
       "      <td>258</td>\n",
       "    </tr>\n",
       "    <tr>\n",
       "      <th>theat</th>\n",
       "      <td>79</td>\n",
       "      <td>322</td>\n",
       "      <td>505</td>\n",
       "    </tr>\n",
       "  </tbody>\n",
       "</table>\n",
       "</div>"
      ],
      "text/plain": [
       "recom  글쎄요  추천해요  할만해요\n",
       "conv   705   770  2348\n",
       "Hcof   258   324   695\n",
       "Lcof    93   114   176\n",
       "cloth   92    63   258\n",
       "theat   79   322   505"
      ]
     },
     "execution_count": 337,
     "metadata": {},
     "output_type": "execute_result"
    }
   ],
   "source": [
    "conv = tot_convenience.groupby(\"recom\")[\"idx\"].count()\n",
    "Hcoffee = tot_coffeeH.groupby(\"recom\")[\"idx\"].count()\n",
    "Lcoffee = tot_coffeeL.groupby(\"recom\")[\"idx\"].count()\n",
    "clothes = tot_clothes.groupby(\"recom\")[\"idx\"].count()\n",
    "theator = tot_theater.groupby(\"recom\")[\"idx\"].count()\n",
    "\n",
    "df = pd.DataFrame(data = conv).rename(columns = {\"idx\":\"conv\"})\n",
    "df[\"Hcof\"] = Hcoffee\n",
    "df[\"Lcof\"] = Lcoffee\n",
    "df[\"cloth\"] = clothes\n",
    "df[\"theat\"] = theator\n",
    "\n",
    "df.transpose()"
   ]
  },
  {
   "cell_type": "code",
   "execution_count": 346,
   "id": "292d6ee0-0787-4f4f-89eb-781d883f94ed",
   "metadata": {
    "scrolled": true
   },
   "outputs": [
    {
     "name": "stdout",
     "output_type": "stream",
     "text": [
      "chi square : 176.24039217883325 pvalue : 6.336179630138277e-34\n"
     ]
    }
   ],
   "source": [
    "chi2, p, dof, expected  = stats.chi2_contingency(df)\n",
    "print(\"chi square :\", chi2,\"pvalue :\", p)"
   ]
  },
  {
   "cell_type": "code",
   "execution_count": 343,
   "id": "2fe42c7c-c6e4-4d2f-b2b7-94bb6203451d",
   "metadata": {
    "scrolled": true
   },
   "outputs": [
    {
     "data": {
      "text/plain": [
       "6.336179630138277e-34"
      ]
     },
     "execution_count": 343,
     "metadata": {},
     "output_type": "execute_result"
    }
   ],
   "source": [
    "float(6.336179630138277e-34)"
   ]
  },
  {
   "cell_type": "markdown",
   "id": "d8387a84-6143-46d8-9094-d1561aa060c1",
   "metadata": {},
   "source": [
    "### 상관관계 분석"
   ]
  },
  {
   "cell_type": "code",
   "execution_count": null,
   "id": "6672b62c-08d5-4a75-92a9-fe97277a2761",
   "metadata": {},
   "outputs": [],
   "source": [
    "# 근무기간과 긍정 평가의 상관관계를 알아보자"
   ]
  },
  {
   "cell_type": "markdown",
   "id": "11cdbba7-5915-456a-a4f4-11110bbb6a64",
   "metadata": {},
   "source": [
    "#### (편의점) 상관관계분석"
   ]
  },
  {
   "cell_type": "code",
   "execution_count": 460,
   "id": "9ad7cf37-6a90-49f1-bcc2-7658b67ff4e2",
   "metadata": {},
   "outputs": [
    {
     "name": "stderr",
     "output_type": "stream",
     "text": [
      "C:\\Users\\NT551XCJ\\anaconda3\\Lib\\site-packages\\seaborn\\_oldcore.py:1498: DeprecationWarning: is_categorical_dtype is deprecated and will be removed in a future version. Use isinstance(dtype, pd.CategoricalDtype) instead\n",
      "  if pd.api.types.is_categorical_dtype(vector):\n",
      "C:\\Users\\NT551XCJ\\anaconda3\\Lib\\site-packages\\seaborn\\_oldcore.py:1498: DeprecationWarning: is_categorical_dtype is deprecated and will be removed in a future version. Use isinstance(dtype, pd.CategoricalDtype) instead\n",
      "  if pd.api.types.is_categorical_dtype(vector):\n"
     ]
    },
    {
     "data": {
      "text/plain": [
       "<Axes: xlabel='wk_dr', ylabel='plus_cnt'>"
      ]
     },
     "execution_count": 460,
     "metadata": {},
     "output_type": "execute_result"
    },
    {
     "data": {
      "image/png": "[encoded data removed]",
      "text/plain": [
       "<Figure size 640x480 with 1 Axes>"
      ]
     },
     "metadata": {},
     "output_type": "display_data"
    }
   ],
   "source": [
    "sns.scatterplot(data=tot_convenience, x=\"wk_dr\", y =\"plus_cnt\")"
   ]
  },
  {
   "cell_type": "code",
   "execution_count": 477,
   "id": "c6a31140-baa3-4983-bf1d-4fcd2080551c",
   "metadata": {},
   "outputs": [
    {
     "name": "stderr",
     "output_type": "stream",
     "text": [
      "C:\\Users\\NT551XCJ\\anaconda3\\Lib\\site-packages\\seaborn\\_oldcore.py:1498: DeprecationWarning: is_categorical_dtype is deprecated and will be removed in a future version. Use isinstance(dtype, pd.CategoricalDtype) instead\n",
      "  if pd.api.types.is_categorical_dtype(vector):\n",
      "C:\\Users\\NT551XCJ\\anaconda3\\Lib\\site-packages\\seaborn\\_oldcore.py:1498: DeprecationWarning: is_categorical_dtype is deprecated and will be removed in a future version. Use isinstance(dtype, pd.CategoricalDtype) instead\n",
      "  if pd.api.types.is_categorical_dtype(vector):\n"
     ]
    },
    {
     "data": {
      "image/png": "[encoded data removed]",
      "text/plain": [
       "<Figure size 640x480 with 1 Axes>"
      ]
     },
     "metadata": {},
     "output_type": "display_data"
    }
   ],
   "source": [
    "sns.set(font=\"Malgun Gothic\", \n",
    "        rc={\"axes.unicode_minus\":False},\n",
    "        style='darkgrid')\n",
    "\n",
    "dt = sns.scatterplot(data=tot_convenience[tot_convenience[\"wk_dr\"]<=400], \n",
    "                     x=\"wk_dr\", y =\"plus_cnt\")\n",
    "\n",
    "dt.set_title(\"근무기간에 따른 긍정 평가 수\")\n",
    "dt.set_xlabel(\"긍정평가 수\")\n",
    "dt.set_ylabel(\"근무기간\")\n",
    "\n",
    "fig = dt.get_figure()\n",
    "fig.savefig('.\\\\scatter.png', orientation= \"landscape\")"
   ]
  },
  {
   "cell_type": "code",
   "execution_count": 370,
   "id": "6bbc8d22-f3d8-4e4f-bd01-9df217d57643",
   "metadata": {},
   "outputs": [
    {
     "data": {
      "text/plain": [
       "122.0"
      ]
     },
     "execution_count": 370,
     "metadata": {},
     "output_type": "execute_result"
    }
   ],
   "source": [
    "tot_convenience.wk_dr.median()"
   ]
  },
  {
   "cell_type": "code",
   "execution_count": 443,
   "id": "8ed30b75-bc95-43d6-a6b6-b5cfcb10a30a",
   "metadata": {},
   "outputs": [
    {
     "name": "stdout",
     "output_type": "stream",
     "text": [
      "ShapiroResult(statistic=0.9108538031578064, pvalue=4.238421206042381e-31)\n",
      "ShapiroResult(statistic=0.9391112923622131, pvalue=1.9985119269409732e-26)\n"
     ]
    }
   ],
   "source": [
    "# 샤피로 검정\n",
    "print(stats.shapiro(tot_convenience[tot_convenience[\"wk_dr\"]<=120].wk_dr.values))\n",
    "print(stats.shapiro(tot_convenience[tot_convenience[\"wk_dr\"]<=120].plus_cnt.values))\n",
    "\n",
    "# 정규성 만족을 못한다. 상관관계 검증을 하기엔 무리가 있으나 그냥 진행해봄."
   ]
  },
  {
   "cell_type": "code",
   "execution_count": 444,
   "id": "90c55991-3865-4aed-b2b1-ee9de73879ac",
   "metadata": {},
   "outputs": [
    {
     "name": "stderr",
     "output_type": "stream",
     "text": [
      "C:\\Users\\NT551XCJ\\anaconda3\\Lib\\site-packages\\seaborn\\_oldcore.py:1498: DeprecationWarning: is_categorical_dtype is deprecated and will be removed in a future version. Use isinstance(dtype, pd.CategoricalDtype) instead\n",
      "  if pd.api.types.is_categorical_dtype(vector):\n",
      "C:\\Users\\NT551XCJ\\anaconda3\\Lib\\site-packages\\seaborn\\_oldcore.py:1498: DeprecationWarning: is_categorical_dtype is deprecated and will be removed in a future version. Use isinstance(dtype, pd.CategoricalDtype) instead\n",
      "  if pd.api.types.is_categorical_dtype(vector):\n"
     ]
    },
    {
     "data": {
      "text/plain": [
       "<Axes: xlabel='wk_dr'>"
      ]
     },
     "execution_count": 444,
     "metadata": {},
     "output_type": "execute_result"
    },
    {
     "data": {
      "image/png": "[encoded data removed]",
      "text/plain": [
       "<Figure size 640x480 with 1 Axes>"
      ]
     },
     "metadata": {},
     "output_type": "display_data"
    }
   ],
   "source": [
    "# 근무기간에 따른 평균 plus_cnt 값\n",
    "temp =tot_convenience[tot_convenience[\"wk_dr\"]<=150].groupby(\"wk_dr\")[\"plus_cnt\"].mean()\n",
    "sns.scatterplot(data=temp, x = temp.index, y = temp.values)\n",
    "\n",
    "# 선형관계가 있어보이긴 하나 약해보임"
   ]
  },
  {
   "cell_type": "code",
   "execution_count": 445,
   "id": "f831b9e1-1fe1-4c6f-b0c7-91fa96de3bbf",
   "metadata": {},
   "outputs": [
    {
     "data": {
      "text/plain": [
       "PearsonRResult(statistic=0.07882668852634074, pvalue=0.0008700774189074036)"
      ]
     },
     "execution_count": 445,
     "metadata": {},
     "output_type": "execute_result"
    }
   ],
   "source": [
    "# 근무기간 120일(약 4개월) 이내 근무기간과 긍정평가 수 상관관계 확인\n",
    "stats.pearsonr(tot_convenience[tot_convenience[\"wk_dr\"]<=120].wk_dr.values,\n",
    "              tot_convenience[tot_convenience[\"wk_dr\"]<=120].plus_cnt.values)\n",
    "\n",
    "# 유의수준보다 낮은 p-value로 상관관계가 있다고 할 수 있지만\n",
    "# 그 값이 0.1보다 낮기 때문에 상관관계가 있다고 하기에 무리가 있다고 판단."
   ]
  },
  {
   "cell_type": "code",
   "execution_count": 446,
   "id": "ae97420e-102b-49a7-9801-2083e9c2d80a",
   "metadata": {},
   "outputs": [
    {
     "data": {
      "text/plain": [
       "PearsonRResult(statistic=0.06823435296067881, pvalue=2.416071007095155e-05)"
      ]
     },
     "execution_count": 446,
     "metadata": {},
     "output_type": "execute_result"
    }
   ],
   "source": [
    "# 전체로 봤을 때 역시 딱히 상관관계 없음\n",
    "stats.pearsonr(tot_convenience.plus_cnt.values, tot_convenience.wk_dr.values)"
   ]
  },
  {
   "cell_type": "markdown",
   "id": "24efbb95-547b-4b1b-afc2-89c72dd8c574",
   "metadata": {
    "jp-MarkdownHeadingCollapsed": true
   },
   "source": [
    "############################################################  \n",
    "#### 다른 업종도 정규성 확인"
   ]
  },
  {
   "cell_type": "code",
   "execution_count": 459,
   "id": "9d062ad9-6c51-4ff9-b7fb-9bf21a2f578a",
   "metadata": {},
   "outputs": [
    {
     "name": "stdout",
     "output_type": "stream",
     "text": [
      "< 편의점 > 122.0 일\n",
      "-------------------------\n",
      " wk_dr: ShapiroResult(statistic=0.918729841709137, pvalue=1.6146348251058672e-31)\n",
      " plus_cnt: ShapiroResult(statistic=0.9394562840461731, pvalue=7.842764215813924e-28)\n",
      "< 고가형카페 > 153.0 일\n",
      "-------------------------\n",
      " wk_dr: ShapiroResult(statistic=0.9323358535766602, pvalue=1.5112068336685662e-16)\n",
      " plus_cnt: ShapiroResult(statistic=0.9166542887687683, pvalue=1.9910715040955126e-18)\n",
      "< 저가형카페 > 123.0 일\n",
      "-------------------------\n",
      " wk_dr: ShapiroResult(statistic=0.913777768611908, pvalue=2.958782996387299e-09)\n",
      " plus_cnt: ShapiroResult(statistic=0.9437045454978943, pvalue=6.51021650810435e-07)\n",
      "< spa의류 > 92.0 일\n",
      "-------------------------\n",
      " wk_dr: ShapiroResult(statistic=0.8646730184555054, pvalue=1.0068838530953236e-13)\n",
      " plus_cnt: ShapiroResult(statistic=0.9342999458312988, pvalue=7.137071378338078e-09)\n",
      "< 영화관 > 152.0 일\n",
      "-------------------------\n",
      " wk_dr: ShapiroResult(statistic=0.9379301071166992, pvalue=7.719251670160188e-13)\n",
      " plus_cnt: ShapiroResult(statistic=0.9039214849472046, pvalue=2.403764625464233e-16)\n"
     ]
    }
   ],
   "source": [
    "\n",
    "# 정규성 검사\n",
    "for i in range(len(data_list)):\n",
    "    k = data_list[i].wk_dr.median()\n",
    "    \n",
    "    print(\"<\",data_name[i],\">\",k,\"일\")\n",
    "    print(\"-------------------------\")\n",
    "    print(\" wk_dr:\",stats.shapiro(data_list[i][data_list[i][\"wk_dr\"]<=k].wk_dr.values))\n",
    "    print(\" plus_cnt:\",stats.shapiro(data_list[i][data_list[i][\"wk_dr\"]<=k].plus_cnt.values))\n",
    "\n",
    "# 전부 정규성 만족 못함."
   ]
  },
  {
   "cell_type": "code",
   "execution_count": null,
   "id": "811324bc-704a-4877-98e5-8681f0a2c3cc",
   "metadata": {},
   "outputs": [],
   "source": []
  },
  {
   "cell_type": "markdown",
   "id": "9b106daf-38d6-41bb-8548-6a1d22e18b56",
   "metadata": {},
   "source": [
    "### Q1 질문 비율"
   ]
  },
  {
   "cell_type": "code",
   "execution_count": null,
   "id": "72d2511f-080f-4d8a-8148-0cc6247abb67",
   "metadata": {},
   "outputs": [],
   "source": [
    "# 확인 후 바로 저장하는 코드로 수정했음"
   ]
  },
  {
   "cell_type": "code",
   "execution_count": 501,
   "id": "cbd391ab-861b-44f7-9e7f-90e5d1ec1eb3",
   "metadata": {},
   "outputs": [],
   "source": [
    "data_name=[\"conv\",\"H\",\"L\",\"clo\",\"thet\"]\n",
    "data_list = [tot_convenience, tot_coffeeH, tot_coffeeL, tot_clothes, tot_theater]\n",
    "\n",
    "for i in range(len(data_list)):\n",
    "    result = question_ratio(data_list[i], ngtv_q1, 14,29)\n",
    "    dfi.export(result, f'./result_{data_name[i]}.png', max_cols = -1, max_rows = -1)\n",
    "    result"
   ]
  },
  {
   "cell_type": "markdown",
   "id": "32154be7-3bb3-449e-9bc8-43a041acb8c7",
   "metadata": {},
   "source": [
    "### Q2 질문비율"
   ]
  },
  {
   "cell_type": "code",
   "execution_count": 507,
   "id": "d8ff2926-872b-4cd9-b31b-47d669306072",
   "metadata": {},
   "outputs": [],
   "source": [
    "for i in range(len(data_list)):\n",
    "    result = question_ratio(data_list[i], ngtv_q2, 29,41)\n",
    "    dfi.export(result, f'./result2_{data_name[i]}.png', max_cols = -1, max_rows = -1)"
   ]
  },
  {
   "cell_type": "markdown",
   "id": "0f86bf07-f1fb-4c97-bf48-166408976416",
   "metadata": {},
   "source": [
    "### Q3 질문 비율"
   ]
  },
  {
   "cell_type": "code",
   "execution_count": 485,
   "id": "3368639b-af3a-4fde-af78-cdff98f6581c",
   "metadata": {},
   "outputs": [],
   "source": [
    "for i in range(len(data_list)):\n",
    "    result = question_ratio(data_list[i],ngtv_q3, 41,52)\n",
    "    dfi.export(result, f'./result3_{data_name[i]}.png', max_cols = -1, max_rows = -1)\n",
    "    result"
   ]
  }
 ],
 "metadata": {
  "kernelspec": {
   "display_name": "Python 3 (ipykernel)",
   "language": "python",
   "name": "python3"
  },
  "language_info": {
   "codemirror_mode": {
    "name": "ipython",
    "version": 3
   },
   "file_extension": ".py",
   "mimetype": "text/x-python",
   "name": "python",
   "nbconvert_exporter": "python",
   "pygments_lexer": "ipython3",
   "version": "3.11.7"
  }
 },
 "nbformat": 4,
 "nbformat_minor": 5
}
