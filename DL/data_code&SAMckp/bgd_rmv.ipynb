{
  "nbformat": 4,
  "nbformat_minor": 0,
  "metadata": {
    "colab": {
      "provenance": []
    },
    "kernelspec": {
      "name": "python3",
      "display_name": "Python 3"
    },
    "language_info": {
      "name": "python"
    }
  },
  "cells": [
    {
      "cell_type": "code",
      "source": [
        "from google.colab import drive\n",
        "drive.mount('/content/drive')"
      ],
      "metadata": {
        "colab": {
          "base_uri": "https://localhost:8080/"
        },
        "id": "kok8HlHuS5mt",
        "outputId": "ef857439-df6d-447d-afdc-14ca7cba4f8b"
      },
      "execution_count": null,
      "outputs": [
        {
          "output_type": "stream",
          "name": "stdout",
          "text": [
            "Mounted at /content/drive\n"
          ]
        }
      ]
    },
    {
      "cell_type": "code",
      "execution_count": null,
      "metadata": {
        "id": "9XQWlOj2SvNG"
      },
      "outputs": [],
      "source": [
        "import cv2\n",
        "import numpy as np\n",
        "import os\n",
        "\n",
        "for i in range(5):\n",
        "    # 기존 이미지 로드\n",
        "    original_image_path = f'/content/drive/MyDrive/3조/weddingdataset/final/agnostic/{80000 + i}_00.jpg'\n",
        "\n",
        "    # 이미지 파일이 존재하는지 확인\n",
        "    if not os.path.exists(original_image_path):\n",
        "        print(f\"File {original_image_path} does not exist.\")\n",
        "        continue\n",
        "\n",
        "    img = cv2.imread(original_image_path)\n",
        "    img = cv2.cvtColor(img, cv2.COLOR_BGR2RGB)  # RGB로 변환\n",
        "\n",
        "    # 마스크 생성 (#808080 색상은 RGB에서 (128, 128, 128))\n",
        "    mask = (img == [128, 128, 128]).all(axis=2)\n",
        "\n",
        "    # 경계를 매끄럽게 하기 위해 Gaussian Blur 적용\n",
        "    blurred_img = cv2.GaussianBlur(img, (5, 5), 0)\n",
        "    mask_blurred = (blurred_img == [128, 128, 128]).all(axis=2)\n",
        "\n",
        "    # 새로운 이미지 생성 (기본적으로 검은색)\n",
        "    new_img = np.zeros_like(img)\n",
        "\n",
        "    # 블러 처리된 마스크를 사용하여 하얀색으로 변경\n",
        "    new_img[mask_blurred] = [255, 255, 255]\n",
        "\n",
        "    # 결과 이미지 저장 (RGB 색상 공간으로 변환하여 저장)\n",
        "    output_path = f'/content/drive/MyDrive/3조/weddingdataset/viton-hd-idm/test/agnostic-mask/{80000 + i}_00_mask.png'\n",
        "    cv2.imwrite(output_path, cv2.cvtColor(new_img, cv2.COLOR_RGB2BGR))\n"
      ]
    }
  ]
}